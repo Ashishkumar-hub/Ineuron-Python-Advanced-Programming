{
  "nbformat": 4,
  "nbformat_minor": 0,
  "metadata": {
    "colab": {
      "name": "Ineuron_Python_Advanced_Programming03.ipynb",
      "provenance": [],
      "collapsed_sections": []
    },
    "kernelspec": {
      "name": "python3",
      "display_name": "Python 3"
    },
    "language_info": {
      "name": "python"
    }
  },
  "cells": [
    {
      "cell_type": "markdown",
      "metadata": {
        "id": "Blg7DiRVFvbt"
      },
      "source": [
        "# Ineuron Python Advanced Programming 03"
      ]
    },
    {
      "cell_type": "markdown",
      "metadata": {
        "id": "cfT_nIdwF8Ch"
      },
      "source": [
        "> Q. 1. Create a function to perform basic arithmetic operations that includes\n",
        "addition, subtraction, multiplication and division on a string number (e.g. '12 +\n",
        "24' or '23 - 21' or '12 // 12' or '12 * 21').\n",
        "Here, we have 1 followed by a space, operator followed by another space\n",
        "and 2. For the challenge, we are going to have only two numbers between 1\n",
        "valid operator. The return value should be a number.\n",
        "eval() is not allowed. In case of division, whenever the second number equals\n",
        "'0' return -1.\n",
        "For example:\n",
        "'15 // 0' ➞ -1\n",
        "Examples\n",
        "arithmetic_operation('12 + 12') ➞ 24 // 12 + 12 = 24\n",
        "arithmetic_operation('12 - 12') ➞ 24 // 12 - 12 = 0\n",
        "arithmetic_operation('12 * 12') ➞ 144 // 12 * 12 = 144\n",
        "arithmetic_operation('12 // 0') ➞ -1 // 12 / 0 = -1"
      ]
    },
    {
      "cell_type": "code",
      "metadata": {
        "id": "87M0Gbw7-YcC"
      },
      "source": [
        "def arithmetic_operation(str):\n",
        "    operators = ['+','*','/','-','//','%']\n",
        "    exp = list(str.split())\n",
        "    if exp[1] == '+':\n",
        "        print(\"The expression :\",str)\n",
        "        return int(exp[0]) + int(exp[2])\n",
        "    elif exp[1] == '-':\n",
        "        print(\"The expression :\",str)\n",
        "        return int(exp[0]) - int(exp[2])\n",
        "    elif exp[1] == '//':\n",
        "        print(\"The expression :\",str)\n",
        "        if int(exp[2]) == 0 or int(exp[0]) == 0:\n",
        "            return -1\n",
        "        else:\n",
        "            return int(exp[0]) // int(exp[2])    \n",
        "    elif exp[1] == '*':\n",
        "        print(\"The expression :\",str)\n",
        "        return int(exp[0]) * int(exp[2]) \n",
        "    elif exp[1] == '/':\n",
        "        print(\"The expression :\",str)\n",
        "        if int(exp[2]) == 0 or int(exp[0]) == 0:\n",
        "            return -1\n",
        "        else:            \n",
        "            return int(exp[0]) / int(exp[2])              \n",
        "    elif exp[1] == '%':\n",
        "        print(\"The expression :\",str)\n",
        "        return int(exp[0])  % int(exp[2])"
      ],
      "execution_count": 1,
      "outputs": []
    },
    {
      "cell_type": "code",
      "metadata": {
        "colab": {
          "base_uri": "https://localhost:8080/"
        },
        "id": "KNtEHwwDGBuT",
        "outputId": "a326b476-b3da-4ada-c4c3-a928c6344820"
      },
      "source": [
        "arithmetic_operation('12 + 12')"
      ],
      "execution_count": 2,
      "outputs": [
        {
          "output_type": "stream",
          "name": "stdout",
          "text": [
            "The expression : 12 + 12\n"
          ]
        },
        {
          "output_type": "execute_result",
          "data": {
            "text/plain": [
              "24"
            ]
          },
          "metadata": {},
          "execution_count": 2
        }
      ]
    },
    {
      "cell_type": "code",
      "metadata": {
        "colab": {
          "base_uri": "https://localhost:8080/"
        },
        "id": "8JYtYwWQGDNr",
        "outputId": "72b48b93-45d9-44e2-f527-67d86eb44568"
      },
      "source": [
        "arithmetic_operation('12 - 12')\n"
      ],
      "execution_count": 3,
      "outputs": [
        {
          "output_type": "stream",
          "name": "stdout",
          "text": [
            "The expression : 12 - 12\n"
          ]
        },
        {
          "output_type": "execute_result",
          "data": {
            "text/plain": [
              "0"
            ]
          },
          "metadata": {},
          "execution_count": 3
        }
      ]
    },
    {
      "cell_type": "code",
      "metadata": {
        "colab": {
          "base_uri": "https://localhost:8080/"
        },
        "id": "S-8FxaU3GFZS",
        "outputId": "bfd039f4-5e6f-4fb0-d32c-898878ae8dd4"
      },
      "source": [
        "arithmetic_operation('12 * 12')\n"
      ],
      "execution_count": 4,
      "outputs": [
        {
          "output_type": "stream",
          "name": "stdout",
          "text": [
            "The expression : 12 * 12\n"
          ]
        },
        {
          "output_type": "execute_result",
          "data": {
            "text/plain": [
              "144"
            ]
          },
          "metadata": {},
          "execution_count": 4
        }
      ]
    },
    {
      "cell_type": "code",
      "metadata": {
        "colab": {
          "base_uri": "https://localhost:8080/"
        },
        "id": "-1e85j9EGOlm",
        "outputId": "39796554-fbdb-4544-e37e-1a2f6d1d94ba"
      },
      "source": [
        "arithmetic_operation('12 / 12')\n"
      ],
      "execution_count": 5,
      "outputs": [
        {
          "output_type": "stream",
          "name": "stdout",
          "text": [
            "The expression : 12 / 12\n"
          ]
        },
        {
          "output_type": "execute_result",
          "data": {
            "text/plain": [
              "1.0"
            ]
          },
          "metadata": {},
          "execution_count": 5
        }
      ]
    },
    {
      "cell_type": "code",
      "metadata": {
        "colab": {
          "base_uri": "https://localhost:8080/"
        },
        "id": "MnLXZkHWGPts",
        "outputId": "7293a42f-524f-43e0-c130-00eeec422414"
      },
      "source": [
        "arithmetic_operation('12 // 12')\n"
      ],
      "execution_count": 6,
      "outputs": [
        {
          "output_type": "stream",
          "name": "stdout",
          "text": [
            "The expression : 12 // 12\n"
          ]
        },
        {
          "output_type": "execute_result",
          "data": {
            "text/plain": [
              "1"
            ]
          },
          "metadata": {},
          "execution_count": 6
        }
      ]
    },
    {
      "cell_type": "code",
      "metadata": {
        "colab": {
          "base_uri": "https://localhost:8080/"
        },
        "id": "c-0kAWXeGSxg",
        "outputId": "056d4a30-6ff3-463f-e603-b919763cb308"
      },
      "source": [
        "arithmetic_operation('12 % 12')\n"
      ],
      "execution_count": 7,
      "outputs": [
        {
          "output_type": "stream",
          "name": "stdout",
          "text": [
            "The expression : 12 % 12\n"
          ]
        },
        {
          "output_type": "execute_result",
          "data": {
            "text/plain": [
              "0"
            ]
          },
          "metadata": {},
          "execution_count": 7
        }
      ]
    },
    {
      "cell_type": "code",
      "metadata": {
        "colab": {
          "base_uri": "https://localhost:8080/"
        },
        "id": "XmT1x7hkGVA0",
        "outputId": "b82015d8-f260-45ad-b5f5-c0db6405e48e"
      },
      "source": [
        "arithmetic_operation('12 // 0')\n"
      ],
      "execution_count": 8,
      "outputs": [
        {
          "output_type": "stream",
          "name": "stdout",
          "text": [
            "The expression : 12 // 0\n"
          ]
        },
        {
          "output_type": "execute_result",
          "data": {
            "text/plain": [
              "-1"
            ]
          },
          "metadata": {},
          "execution_count": 8
        }
      ]
    },
    {
      "cell_type": "code",
      "metadata": {
        "colab": {
          "base_uri": "https://localhost:8080/"
        },
        "id": "O1HnXHBDGWaM",
        "outputId": "3fa43e70-b3c0-449c-912c-e81f9b59ff4c"
      },
      "source": [
        "arithmetic_operation('0 // 0')\n"
      ],
      "execution_count": 9,
      "outputs": [
        {
          "output_type": "stream",
          "name": "stdout",
          "text": [
            "The expression : 0 // 0\n"
          ]
        },
        {
          "output_type": "execute_result",
          "data": {
            "text/plain": [
              "-1"
            ]
          },
          "metadata": {},
          "execution_count": 9
        }
      ]
    },
    {
      "cell_type": "code",
      "metadata": {
        "colab": {
          "base_uri": "https://localhost:8080/"
        },
        "id": "uHuxTPCvGXoo",
        "outputId": "b6666e17-5b71-4447-e712-75d65f4bceb3"
      },
      "source": [
        "arithmetic_operation('0 // 4')\n"
      ],
      "execution_count": 10,
      "outputs": [
        {
          "output_type": "stream",
          "name": "stdout",
          "text": [
            "The expression : 0 // 4\n"
          ]
        },
        {
          "output_type": "execute_result",
          "data": {
            "text/plain": [
              "-1"
            ]
          },
          "metadata": {},
          "execution_count": 10
        }
      ]
    },
    {
      "cell_type": "markdown",
      "metadata": {
        "id": "gbvsHccMGdwV"
      },
      "source": [
        "> Q. 2. Write a function that takes the coordinates of three points in the form of a\n",
        "2d array and returns the perimeter of the triangle. The given points are the\n",
        "vertices of a triangle on a two-dimensional plane.\n",
        "Examples\n",
        "perimeter( [ [15, 7], [5, 22], [11, 1] ] ) ➞ 47.08\n",
        "perimeter( [ [0, 0], [0, 1], [1, 0] ] ) ➞ 3.42\n",
        "perimeter( [ [-10, -10], [10, 10 ], [-10, 10] ] ) ➞ 68.28"
      ]
    },
    {
      "cell_type": "code",
      "metadata": {
        "id": "KYroJv4PGY15"
      },
      "source": [
        "import math\n",
        "def perimeter(ary):\n",
        "   \n",
        "    x = ary[0]\n",
        "    y = ary[1]\n",
        "    z = ary[2]\n",
        "    #Find lenth of 3 sides\n",
        "    a = math.sqrt((x[0]-x[1])**2 + (y[0]-y[1])**2)\n",
        "    b = math.sqrt((y[0]-y[1])**2 + (z[0]-z[1])**2)\n",
        "    c = math.sqrt((z[0]-z[1])**2 + (x[0]-x[1])**2)\n",
        "    perimetr = a + b + c\n",
        "    print(\"The co ordinates are \",x,y,z)\n",
        "    return perimetr"
      ],
      "execution_count": 11,
      "outputs": []
    },
    {
      "cell_type": "code",
      "metadata": {
        "colab": {
          "base_uri": "https://localhost:8080/"
        },
        "id": "xtHbceLbGhRz",
        "outputId": "9d241159-39fe-4d28-e131-5a7ea66fe75e"
      },
      "source": [
        "perimeter( [ [15, 7], [5, 22], [11, 1] ] )\n"
      ],
      "execution_count": 12,
      "outputs": [
        {
          "output_type": "stream",
          "name": "stdout",
          "text": [
            "The co ordinates are  [15, 7] [5, 22] [11, 1]\n"
          ]
        },
        {
          "output_type": "execute_result",
          "data": {
            "text/plain": [
              "51.31762562623766"
            ]
          },
          "metadata": {},
          "execution_count": 12
        }
      ]
    },
    {
      "cell_type": "code",
      "metadata": {
        "colab": {
          "base_uri": "https://localhost:8080/"
        },
        "id": "AK-14-WDGlIA",
        "outputId": "b3215c53-a603-4299-8779-153a5f2e93ee"
      },
      "source": [
        "perimeter( [ [0, 0], [0, 1], [1, 0] ] )\n"
      ],
      "execution_count": 13,
      "outputs": [
        {
          "output_type": "stream",
          "name": "stdout",
          "text": [
            "The co ordinates are  [0, 0] [0, 1] [1, 0]\n"
          ]
        },
        {
          "output_type": "execute_result",
          "data": {
            "text/plain": [
              "3.414213562373095"
            ]
          },
          "metadata": {},
          "execution_count": 13
        }
      ]
    },
    {
      "cell_type": "code",
      "metadata": {
        "colab": {
          "base_uri": "https://localhost:8080/"
        },
        "id": "CMupIZ-wGm1I",
        "outputId": "c8678f19-86a9-4241-cc73-0b200ead246c"
      },
      "source": [
        "perimeter( [ [-10, -10], [10, 10 ], [-10, 10] ] )\n"
      ],
      "execution_count": 14,
      "outputs": [
        {
          "output_type": "stream",
          "name": "stdout",
          "text": [
            "The co ordinates are  [-10, -10] [10, 10] [-10, 10]\n"
          ]
        },
        {
          "output_type": "execute_result",
          "data": {
            "text/plain": [
              "40.0"
            ]
          },
          "metadata": {},
          "execution_count": 14
        }
      ]
    },
    {
      "cell_type": "markdown",
      "metadata": {
        "id": "0Ipq1b6NG1ac"
      },
      "source": [
        ">Q. 3. A city skyline can be represented as a 2-D list with 1s representing\n",
        "buildings. In the example below, the height of the tallest building is 4 (second-\n",
        "most right column)."
      ]
    },
    {
      "cell_type": "code",
      "metadata": {
        "id": "XS7BeCFrGox7"
      },
      "source": [
        "def tallest_skyscraper(array):\n",
        "    list_of_height = []\n",
        "    sum = 0\n",
        "    for i in range(len(array[0])):\n",
        "        for j in range(len(array)):\n",
        "            sum = sum + array[j][i]\n",
        "        list_of_height.append(sum)\n",
        "        sum = 0\n",
        "    return \"The hieght of tallest building is : \", max(list_of_height)"
      ],
      "execution_count": 15,
      "outputs": []
    },
    {
      "cell_type": "code",
      "metadata": {
        "colab": {
          "base_uri": "https://localhost:8080/"
        },
        "id": "CLyBPKPjG4wF",
        "outputId": "2f039b56-a92b-4dbf-ffbc-c9567c9ea36d"
      },
      "source": [
        "tallest_skyscraper([\n",
        "[0, 0, 0, 0],\n",
        "[0, 1, 0, 0],\n",
        "[0, 1, 1, 0],\n",
        "[1, 1, 1, 1]\n",
        "])"
      ],
      "execution_count": 16,
      "outputs": [
        {
          "output_type": "execute_result",
          "data": {
            "text/plain": [
              "('The hieght of tallest building is : ', 3)"
            ]
          },
          "metadata": {},
          "execution_count": 16
        }
      ]
    },
    {
      "cell_type": "code",
      "metadata": {
        "colab": {
          "base_uri": "https://localhost:8080/"
        },
        "id": "-oIBThTRG6Dd",
        "outputId": "6d592c9e-4459-489e-9402-8087d11dafbb"
      },
      "source": [
        "tallest_skyscraper([\n",
        "[0, 1, 0, 0],\n",
        "[0, 1, 0, 0],\n",
        "[0, 1, 1, 0],\n",
        "[1, 1, 1, 1]\n",
        "])"
      ],
      "execution_count": 17,
      "outputs": [
        {
          "output_type": "execute_result",
          "data": {
            "text/plain": [
              "('The hieght of tallest building is : ', 4)"
            ]
          },
          "metadata": {},
          "execution_count": 17
        }
      ]
    },
    {
      "cell_type": "code",
      "metadata": {
        "colab": {
          "base_uri": "https://localhost:8080/"
        },
        "id": "HLrK2XFsG71k",
        "outputId": "050f5746-0b5b-4659-c208-e3f7df29d5f8"
      },
      "source": [
        "tallest_skyscraper([\n",
        "[0, 0, 0, 0],\n",
        "[0, 0, 0, 0],\n",
        "[1, 1, 1, 0],\n",
        "[1, 1, 1, 1]\n",
        "])"
      ],
      "execution_count": 18,
      "outputs": [
        {
          "output_type": "execute_result",
          "data": {
            "text/plain": [
              "('The hieght of tallest building is : ', 2)"
            ]
          },
          "metadata": {},
          "execution_count": 18
        }
      ]
    },
    {
      "cell_type": "markdown",
      "metadata": {
        "id": "lVEdJgazHJ8d"
      },
      "source": [
        ">Q. 4. A financial institution provides professional services to banks and claims\n",
        "charges from the customers based on the number of man-days provided.\n",
        "Internally, it has set a scheme to motivate and reward staff to meet and\n",
        "exceed targeted billable utilization and revenues by paying a bonus for each\n",
        "day claimed from customers in excess of a threshold target.\n",
        "This quarterly scheme is calculated with a threshold target of 32 days per\n",
        "quarter, and the incentive payment for each billable day in excess of such\n",
        "threshold target is shown as follows:\n",
        "y"
      ]
    },
    {
      "cell_type": "code",
      "metadata": {
        "id": "ofjR-6fTG9xM"
      },
      "source": [
        "def bonus(day):\n",
        "    days = [32,40,48]\n",
        "    inc = 0\n",
        "    while True :\n",
        "        if day <=32 :\n",
        "            break\n",
        "        if day > 48:\n",
        "            inc = inc + (day - days[2]) * 600\n",
        "            day = day - (day - days[2])\n",
        "            print(inc)\n",
        "        elif day > 40 :\n",
        "            inc = inc + (day -days[1]) * 550\n",
        "            day = day - (day - days[1])\n",
        "        elif day > 32:\n",
        "            inc = inc + (day -days[0]) * 325\n",
        "            day = day - (day - days[0])\n",
        "    return \"The incentive is : \",inc"
      ],
      "execution_count": 19,
      "outputs": []
    },
    {
      "cell_type": "code",
      "metadata": {
        "colab": {
          "base_uri": "https://localhost:8080/"
        },
        "id": "VC6kqNlRHQDx",
        "outputId": "788113a2-5367-486b-da0b-b1b34589c74c"
      },
      "source": [
        "bonus(15)\n"
      ],
      "execution_count": 20,
      "outputs": [
        {
          "output_type": "execute_result",
          "data": {
            "text/plain": [
              "('The incentive is : ', 0)"
            ]
          },
          "metadata": {},
          "execution_count": 20
        }
      ]
    },
    {
      "cell_type": "code",
      "metadata": {
        "colab": {
          "base_uri": "https://localhost:8080/"
        },
        "id": "fKmglpNTHRPE",
        "outputId": "e60cc792-013e-4f4d-803f-5b0a162abcbe"
      },
      "source": [
        "bonus(37)\n"
      ],
      "execution_count": 21,
      "outputs": [
        {
          "output_type": "execute_result",
          "data": {
            "text/plain": [
              "('The incentive is : ', 1625)"
            ]
          },
          "metadata": {},
          "execution_count": 21
        }
      ]
    },
    {
      "cell_type": "code",
      "metadata": {
        "colab": {
          "base_uri": "https://localhost:8080/"
        },
        "id": "e8X_DxIpHSTt",
        "outputId": "aebef261-f2f4-4d65-abf9-bffbba81b707"
      },
      "source": [
        "bonus(50)\n"
      ],
      "execution_count": 22,
      "outputs": [
        {
          "output_type": "stream",
          "name": "stdout",
          "text": [
            "1200\n"
          ]
        },
        {
          "output_type": "execute_result",
          "data": {
            "text/plain": [
              "('The incentive is : ', 8200)"
            ]
          },
          "metadata": {},
          "execution_count": 22
        }
      ]
    },
    {
      "cell_type": "code",
      "metadata": {
        "colab": {
          "base_uri": "https://localhost:8080/"
        },
        "id": "kXa-aufGHTvr",
        "outputId": "c1c3840c-2710-47c7-a615-f8c599d6d0d7"
      },
      "source": [
        "bonus(45)\n"
      ],
      "execution_count": 23,
      "outputs": [
        {
          "output_type": "execute_result",
          "data": {
            "text/plain": [
              "('The incentive is : ', 5350)"
            ]
          },
          "metadata": {},
          "execution_count": 23
        }
      ]
    },
    {
      "cell_type": "markdown",
      "metadata": {
        "id": "aKutwmy9HX0d"
      },
      "source": [
        ">Q. 5. A number is said to be Disarium if the sum of its digits raised to their\n",
        "respective positions is the number itself.\n",
        "Create a function that determines whether a number is a Disarium or not.\n",
        "Examples\n",
        "is_disarium(75) ➞ False\n",
        "7^1 + 5^2 = 7 + 25 = 32\n",
        "is_disarium(135) ➞ True\n",
        " 1^1 + 3^2 + 5^3 = 1 + 9 + 125 = 135\n",
        "is_disarium(544) ➞ False\n",
        "is_disarium(518) ➞ True\n",
        "is_disarium(466) ➞ False\n",
        "is_disarium(8) ➞ True"
      ]
    },
    {
      "cell_type": "code",
      "metadata": {
        "id": "bV7EdpdcHVPi"
      },
      "source": [
        "def is_disarium(num):\n",
        "    sum = 0\n",
        "    tempNum = num\n",
        "    while(num>0):\n",
        "        dgcnt= len(str(num))\n",
        "        digit = num%10\n",
        "        sum= sum + digit**dgcnt   \n",
        "        dgcnt-=1\n",
        "        num = num//10    \n",
        "    if sum == tempNum:\n",
        "        return tempNum,\"Number is Disarium\"\n",
        "    else:\n",
        "        return tempNum,\"Number is not Disarium\""
      ],
      "execution_count": 24,
      "outputs": []
    },
    {
      "cell_type": "code",
      "metadata": {
        "colab": {
          "base_uri": "https://localhost:8080/"
        },
        "id": "uEaC-SV0HcGG",
        "outputId": "67ea387e-ba48-4e80-ca03-ac1e92e298ed"
      },
      "source": [
        "is_disarium(544)\n"
      ],
      "execution_count": 25,
      "outputs": [
        {
          "output_type": "execute_result",
          "data": {
            "text/plain": [
              "(544, 'Number is not Disarium')"
            ]
          },
          "metadata": {},
          "execution_count": 25
        }
      ]
    },
    {
      "cell_type": "code",
      "metadata": {
        "colab": {
          "base_uri": "https://localhost:8080/"
        },
        "id": "QE845UztHd-Z",
        "outputId": "520bb56d-2d9f-4564-f1bd-d281153d3cc5"
      },
      "source": [
        "is_disarium(518)\n"
      ],
      "execution_count": 26,
      "outputs": [
        {
          "output_type": "execute_result",
          "data": {
            "text/plain": [
              "(518, 'Number is Disarium')"
            ]
          },
          "metadata": {},
          "execution_count": 26
        }
      ]
    },
    {
      "cell_type": "code",
      "metadata": {
        "colab": {
          "base_uri": "https://localhost:8080/"
        },
        "id": "5890mub-HfH5",
        "outputId": "56c86763-bedc-459a-a095-29c3700a1135"
      },
      "source": [
        "is_disarium(466)\n"
      ],
      "execution_count": 27,
      "outputs": [
        {
          "output_type": "execute_result",
          "data": {
            "text/plain": [
              "(466, 'Number is not Disarium')"
            ]
          },
          "metadata": {},
          "execution_count": 27
        }
      ]
    },
    {
      "cell_type": "code",
      "metadata": {
        "colab": {
          "base_uri": "https://localhost:8080/"
        },
        "id": "XnW6tNe-HgRo",
        "outputId": "634095d4-e4c5-47d2-e5a9-c597115b19e0"
      },
      "source": [
        "is_disarium(8)\n"
      ],
      "execution_count": 28,
      "outputs": [
        {
          "output_type": "execute_result",
          "data": {
            "text/plain": [
              "(8, 'Number is Disarium')"
            ]
          },
          "metadata": {},
          "execution_count": 28
        }
      ]
    }
  ]
}