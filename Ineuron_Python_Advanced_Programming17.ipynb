{
  "nbformat": 4,
  "nbformat_minor": 0,
  "metadata": {
    "colab": {
      "name": "Ineuron_Python_Advanced_Programming17.ipynb",
      "provenance": [],
      "collapsed_sections": []
    },
    "kernelspec": {
      "name": "python3",
      "display_name": "Python 3"
    },
    "language_info": {
      "name": "python"
    }
  },
  "cells": [
    {
      "cell_type": "markdown",
      "metadata": {
        "id": "gjkkt0WTzp9t"
      },
      "source": [
        "#Ineuron Python Advanced Programming 17"
      ]
    },
    {
      "cell_type": "markdown",
      "metadata": {
        "id": "mxvNcmCxzuTz"
      },
      "source": [
        ">Q.1. Create a function that transposes a 2D matrix.\n",
        "\n",
        "Examples\n",
        "\n",
        "transpose_matrix([\n",
        "  [1, 1, 1],\n",
        "  [2, 2, 2],\n",
        "  [3, 3, 3]\n",
        "]) ➞ [\n",
        "  [1, 2, 3],\n",
        "  [1, 2, 3],\n",
        "  [1, 2, 3]\n",
        "]\n",
        "\n",
        "transpose_matrix([\n",
        "  [5, 5],\n",
        "  [6, 7],\n",
        "  [9, 1]\n",
        "]) ➞ [\n",
        "  [5, 6, 9],\n",
        "  [5, 7, 1]\n",
        "]\n"
      ]
    },
    {
      "cell_type": "code",
      "metadata": {
        "id": "CMFsG_6zyr9W"
      },
      "source": [
        "def transpose_matrix(A):\n",
        "    N=len(A)\n",
        "    M=len(A[0])\n",
        " \n",
        "    for i in range(N):\n",
        "        for j in range(i+1, M):\n",
        "            A[i][j], A[j][i] = A[j][i], A[i][j]\n",
        "            \n",
        "    print(\"Transposed matrix is\")\n",
        "    \n",
        "    for i in range(N):\n",
        "        for j in range(M):\n",
        "            print(A[i][j], \" \", end='')\n",
        "        print()"
      ],
      "execution_count": 1,
      "outputs": []
    },
    {
      "cell_type": "code",
      "metadata": {
        "colab": {
          "base_uri": "https://localhost:8080/"
        },
        "id": "nTl4hIM4zykt",
        "outputId": "0066e790-405b-40e5-8a52-173a256429ec"
      },
      "source": [
        "A = [ [1, 1, 1, 1],\n",
        "    [2, 2, 2, 2],\n",
        "    [3, 3, 3, 3],\n",
        "    [4, 4, 4, 4]]\n",
        "  \n",
        "transpose_matrix(A)"
      ],
      "execution_count": 2,
      "outputs": [
        {
          "output_type": "stream",
          "name": "stdout",
          "text": [
            "Transposed matrix is\n",
            "1  2  3  4  \n",
            "1  2  3  4  \n",
            "1  2  3  4  \n",
            "1  2  3  4  \n"
          ]
        }
      ]
    },
    {
      "cell_type": "code",
      "metadata": {
        "colab": {
          "base_uri": "https://localhost:8080/"
        },
        "id": "epBVnRbazz5i",
        "outputId": "a2721e5c-f668-4058-83c4-d8922694b9a0"
      },
      "source": [
        "\n",
        "transpose_matrix([\n",
        "  [5, 5],\n",
        "  [6, 7],\n",
        "  [9, 1]\n",
        "])\n"
      ],
      "execution_count": 3,
      "outputs": [
        {
          "output_type": "stream",
          "name": "stdout",
          "text": [
            "Transposed matrix is\n",
            "5  6  \n",
            "5  7  \n",
            "9  1  \n"
          ]
        }
      ]
    },
    {
      "cell_type": "markdown",
      "metadata": {
        "id": "nyQSe-Hrz60L"
      },
      "source": [
        ">Q.2. Create a function that determines whether a string is a valid hex code.\n",
        "\n",
        "A hex code must begin with a pound key # and is exactly 6 characters in length. Each character must be a digit from 0-9 or an alphabetic character from A-F. All alphabetic characters may be uppercase or lowercase.\n"
      ]
    },
    {
      "cell_type": "code",
      "metadata": {
        "id": "XK-_tJEOz2tY"
      },
      "source": [
        "def is_valid_hex_code(s):\n",
        "    if s[0] != \"#\":\n",
        "        return False\n",
        "    else:\n",
        "        s=s[1:]\n",
        "        for i in s:\n",
        "            if i.isalpha():\n",
        "                i=i.lower()\n",
        "                if ord(i)<97 or ord(i)>102:\n",
        "                    return False\n",
        "            elif i.isdigit():\n",
        "                if int(i)<0 or int(i)>9:\n",
        "                    return False\n",
        "            else:\n",
        "                return False\n",
        "        return True"
      ],
      "execution_count": 4,
      "outputs": []
    },
    {
      "cell_type": "code",
      "metadata": {
        "colab": {
          "base_uri": "https://localhost:8080/"
        },
        "id": "NXsvscDXz-Pz",
        "outputId": "1d5a13ce-1db1-4169-82b1-5ed68cabca1b"
      },
      "source": [
        "is_valid_hex_code(\"#CD5C5C\")\n"
      ],
      "execution_count": 5,
      "outputs": [
        {
          "output_type": "execute_result",
          "data": {
            "text/plain": [
              "True"
            ]
          },
          "metadata": {},
          "execution_count": 5
        }
      ]
    },
    {
      "cell_type": "code",
      "metadata": {
        "colab": {
          "base_uri": "https://localhost:8080/"
        },
        "id": "m9lugp9t0Aj0",
        "outputId": "d2dd5e11-6d15-4c67-ae1d-3dc3a37fdb8f"
      },
      "source": [
        "is_valid_hex_code(\"#CD5C5C\")\n"
      ],
      "execution_count": 6,
      "outputs": [
        {
          "output_type": "execute_result",
          "data": {
            "text/plain": [
              "True"
            ]
          },
          "metadata": {},
          "execution_count": 6
        }
      ]
    },
    {
      "cell_type": "code",
      "metadata": {
        "colab": {
          "base_uri": "https://localhost:8080/"
        },
        "id": "gArNor4d0Dhf",
        "outputId": "8f82c1f0-9ec9-4ae7-d3c6-9fcbf3f18e22"
      },
      "source": [
        "is_valid_hex_code(\"#eaecee\")\n",
        "\n"
      ],
      "execution_count": 7,
      "outputs": [
        {
          "output_type": "execute_result",
          "data": {
            "text/plain": [
              "True"
            ]
          },
          "metadata": {},
          "execution_count": 7
        }
      ]
    },
    {
      "cell_type": "code",
      "metadata": {
        "colab": {
          "base_uri": "https://localhost:8080/"
        },
        "id": "2b104M6p0E-1",
        "outputId": "ac5d634c-9b5a-4558-ad49-fb7bd8c2ba53"
      },
      "source": [
        "is_valid_hex_code(\"#CD5C58C\")\n"
      ],
      "execution_count": 8,
      "outputs": [
        {
          "output_type": "execute_result",
          "data": {
            "text/plain": [
              "True"
            ]
          },
          "metadata": {},
          "execution_count": 8
        }
      ]
    },
    {
      "cell_type": "code",
      "metadata": {
        "colab": {
          "base_uri": "https://localhost:8080/"
        },
        "id": "an2SuO1Z0GK9",
        "outputId": "a940e673-2d1c-4838-ff54-2ac23bf25003"
      },
      "source": [
        "is_valid_hex_code(\"#CD5C5Z\")\n"
      ],
      "execution_count": 9,
      "outputs": [
        {
          "output_type": "execute_result",
          "data": {
            "text/plain": [
              "False"
            ]
          },
          "metadata": {},
          "execution_count": 9
        }
      ]
    },
    {
      "cell_type": "code",
      "metadata": {
        "colab": {
          "base_uri": "https://localhost:8080/"
        },
        "id": "O4SvDHth0HVY",
        "outputId": "8b491111-e4f3-4c31-ce98-a378c3c4a0fb"
      },
      "source": [
        "is_valid_hex_code(\"#CD5C&C\")\n"
      ],
      "execution_count": 10,
      "outputs": [
        {
          "output_type": "execute_result",
          "data": {
            "text/plain": [
              "False"
            ]
          },
          "metadata": {},
          "execution_count": 10
        }
      ]
    },
    {
      "cell_type": "code",
      "metadata": {
        "colab": {
          "base_uri": "https://localhost:8080/"
        },
        "id": "mmtGYyJY0JBI",
        "outputId": "96a54f3b-2d54-4a7b-d3b3-a09df0a70da9"
      },
      "source": [
        "is_valid_hex_code(\"CD5C5C\")\n"
      ],
      "execution_count": 11,
      "outputs": [
        {
          "output_type": "execute_result",
          "data": {
            "text/plain": [
              "False"
            ]
          },
          "metadata": {},
          "execution_count": 11
        }
      ]
    },
    {
      "cell_type": "markdown",
      "metadata": {
        "id": "CVdSUCu70Mf6"
      },
      "source": [
        ">Q. 3. Given a list of math equations (given as strings), return the percentage of correct answers as a string. Round to the nearest whole number.\n",
        "\n",
        "Examples\n",
        "\n",
        "mark_maths([\"2+2=4\", \"3+2=5\", \"10-3=3\", \"5+5=10\"]) ➞ \"75%\"\n",
        "\n",
        "mark_maths([\"1-2=-2\"]), \"0%\"\n",
        "\n",
        "mark_maths([\"2+3=5\", \"4+4=9\", \"3-1=2\"]) ➞ \"67%\""
      ]
    },
    {
      "cell_type": "code",
      "metadata": {
        "id": "-na8vzTu0KPz"
      },
      "source": [
        "def mark_maths(lst):\n",
        "    sign=[\"+\",\"-\",\"=\"]\n",
        "    res=0\n",
        "    for exp in lst:\n",
        "        temp=[]\n",
        "        start = 0\n",
        "        for i in range(0,len(exp)-1):\n",
        "            if exp[i]== '=':\n",
        "                temp.append(exp[i+1:])\n",
        "            elif exp[i+1] in sign and exp[i].isdigit():\n",
        "                temp.append(exp[start:i+1])\n",
        "                start=i+1\n",
        "        if(int(temp[0])+int(temp[1])==int(temp[2])):\n",
        "            res+=1\n",
        "    return (str(round((res/len(lst))*100)) +\"%\" )"
      ],
      "execution_count": 12,
      "outputs": []
    },
    {
      "cell_type": "code",
      "metadata": {
        "colab": {
          "base_uri": "https://localhost:8080/",
          "height": 35
        },
        "id": "Q6HfhXAi0Pes",
        "outputId": "f4a28120-20f4-4603-bc7e-0adb42818d17"
      },
      "source": [
        "\n",
        "mark_maths([\"2+2=4\", \"3+2=5\", \"10-3=3\", \"5+5=10\"])"
      ],
      "execution_count": 13,
      "outputs": [
        {
          "output_type": "execute_result",
          "data": {
            "application/vnd.google.colaboratory.intrinsic+json": {
              "type": "string"
            },
            "text/plain": [
              "'75%'"
            ]
          },
          "metadata": {},
          "execution_count": 13
        }
      ]
    },
    {
      "cell_type": "code",
      "metadata": {
        "colab": {
          "base_uri": "https://localhost:8080/",
          "height": 35
        },
        "id": "Wbf2tSf90Q32",
        "outputId": "79663fb6-21f8-45a4-e148-00bf3486d396"
      },
      "source": [
        "mark_maths([\"1-2=-2\"])\n"
      ],
      "execution_count": 14,
      "outputs": [
        {
          "output_type": "execute_result",
          "data": {
            "application/vnd.google.colaboratory.intrinsic+json": {
              "type": "string"
            },
            "text/plain": [
              "'0%'"
            ]
          },
          "metadata": {},
          "execution_count": 14
        }
      ]
    },
    {
      "cell_type": "code",
      "metadata": {
        "colab": {
          "base_uri": "https://localhost:8080/",
          "height": 35
        },
        "id": "-VgjXThN0SM8",
        "outputId": "4eee32ff-5b3e-4239-8938-966d3163487e"
      },
      "source": [
        "mark_maths([\"2+3=5\", \"4+4=9\", \"3-1=2\"])\n"
      ],
      "execution_count": 15,
      "outputs": [
        {
          "output_type": "execute_result",
          "data": {
            "application/vnd.google.colaboratory.intrinsic+json": {
              "type": "string"
            },
            "text/plain": [
              "'67%'"
            ]
          },
          "metadata": {},
          "execution_count": 15
        }
      ]
    },
    {
      "cell_type": "markdown",
      "metadata": {
        "id": "P4MtPfaV0YpE"
      },
      "source": [
        ">Q.4.There are two players, Alice and Bob, each with a 3-by-3 grid. A referee tells Alice to fill out one particular row in the grid (say the second row) by putting either a 1 or a 0 in each box, such that the sum of the numbers in that row is odd. The referee tells Bob to fill out one column in the grid (say the first column) by putting either a 1 or a 0 in each box, such that the sum of the numbers in that column is even.\n",
        "\n",
        "Alice and Bob win the game if Alice’s numbers give an odd sum, Bob’s give an even sum, and (most important) they’ve each written down the same number in the one square where their row and column intersect."
      ]
    },
    {
      "cell_type": "code",
      "metadata": {
        "id": "mJ-kuHrj0Uaq"
      },
      "source": [
        "def my_sum(s):\n",
        "    c=0\n",
        "    for i in s:\n",
        "        c+=int(i)\n",
        "    return c\n",
        "    \n",
        "def magic_square_game(alice,bob):\n",
        "    row=alice[0]-1\n",
        "    column=bob[0]-1\n",
        "    ac=alice[1]\n",
        "    bc=bob[1]\n",
        "\n",
        "    if my_sum(ac)%2 != 0 and my_sum(bc)%2 == 0:\n",
        "        if ac[column]==bc[row]:\n",
        "            return True\n",
        "        else:\n",
        "            return False\n",
        "    else:\n",
        "        return False"
      ],
      "execution_count": 16,
      "outputs": []
    },
    {
      "cell_type": "code",
      "metadata": {
        "colab": {
          "base_uri": "https://localhost:8080/"
        },
        "id": "4HonVrKP0c9a",
        "outputId": "f5c28dfe-04d5-4654-e098-fc5bcbdb7d6c"
      },
      "source": [
        "magic_square_game([1, \"010\"], [3, \"101\"])\n",
        "\n"
      ],
      "execution_count": 17,
      "outputs": [
        {
          "output_type": "execute_result",
          "data": {
            "text/plain": [
              "False"
            ]
          },
          "metadata": {},
          "execution_count": 17
        }
      ]
    },
    {
      "cell_type": "code",
      "metadata": {
        "colab": {
          "base_uri": "https://localhost:8080/"
        },
        "id": "H_sph1yg0eTn",
        "outputId": "c4090719-d93d-4eb3-cb90-fce89a1e9ae5"
      },
      "source": [
        "magic_square_game([2, \"100\"], [1, \"101\"])\n"
      ],
      "execution_count": 18,
      "outputs": [
        {
          "output_type": "execute_result",
          "data": {
            "text/plain": [
              "False"
            ]
          },
          "metadata": {},
          "execution_count": 18
        }
      ]
    },
    {
      "cell_type": "code",
      "metadata": {
        "colab": {
          "base_uri": "https://localhost:8080/"
        },
        "id": "YPN1qp3O0fqi",
        "outputId": "089d6a07-f5ad-4f15-b758-d5d977c3e6fc"
      },
      "source": [
        "magic_square_game([2, \"001\"], [1, \"101\"])\n"
      ],
      "execution_count": 19,
      "outputs": [
        {
          "output_type": "execute_result",
          "data": {
            "text/plain": [
              "True"
            ]
          },
          "metadata": {},
          "execution_count": 19
        }
      ]
    },
    {
      "cell_type": "code",
      "metadata": {
        "colab": {
          "base_uri": "https://localhost:8080/"
        },
        "id": "q12acFoo0hRF",
        "outputId": "21255c7a-68d4-4a34-c314-e0d450483643"
      },
      "source": [
        "magic_square_game([3, \"111\"], [2, \"011\"])\n"
      ],
      "execution_count": 20,
      "outputs": [
        {
          "output_type": "execute_result",
          "data": {
            "text/plain": [
              "True"
            ]
          },
          "metadata": {},
          "execution_count": 20
        }
      ]
    },
    {
      "cell_type": "markdown",
      "metadata": {
        "id": "ykwrX0r70lLR"
      },
      "source": [
        ">Q.5. From point A, an object is moving towards point B at constant velocity va (in km/hr). From point B, another object is moving towards point A at constant velocity vb (in km/hr). Knowing this and the distance between point A and B (in km), write a function that returns how much time passes until both objects meet.\n",
        "\n",
        "Format the output like this:\n",
        "\n",
        "\"2h 23min 34s\"\n"
      ]
    },
    {
      "cell_type": "code",
      "metadata": {
        "id": "R_n7rmRE0iXz"
      },
      "source": [
        "\n",
        "def lets_meet(distance,Va,Vb):\n",
        "    \n",
        "    time=distance/(Va+Vb)\n",
        "    hour = int(time)\n",
        "    min = (time*60) % 60.\n",
        "    sec = (time*3600) % 60.\n",
        "    return \"%02dh:%02dmin:%02ds\" % (hour, min, sec)"
      ],
      "execution_count": 21,
      "outputs": []
    },
    {
      "cell_type": "code",
      "metadata": {
        "colab": {
          "base_uri": "https://localhost:8080/",
          "height": 35
        },
        "id": "6gDY4lIo0ovO",
        "outputId": "6693de03-db16-48c2-d95c-9acd271def3f"
      },
      "source": [
        "lets_meet(100, 10, 30)\n"
      ],
      "execution_count": 22,
      "outputs": [
        {
          "output_type": "execute_result",
          "data": {
            "application/vnd.google.colaboratory.intrinsic+json": {
              "type": "string"
            },
            "text/plain": [
              "'02h:30min:00s'"
            ]
          },
          "metadata": {},
          "execution_count": 22
        }
      ]
    },
    {
      "cell_type": "code",
      "metadata": {
        "colab": {
          "base_uri": "https://localhost:8080/",
          "height": 35
        },
        "id": "OnYLYNtf0p8y",
        "outputId": "f049cb2d-3c81-4bc0-be82-3af27bae0457"
      },
      "source": [
        "lets_meet(280, 70, 80)\n"
      ],
      "execution_count": 23,
      "outputs": [
        {
          "output_type": "execute_result",
          "data": {
            "application/vnd.google.colaboratory.intrinsic+json": {
              "type": "string"
            },
            "text/plain": [
              "'01h:52min:00s'"
            ]
          },
          "metadata": {},
          "execution_count": 23
        }
      ]
    },
    {
      "cell_type": "code",
      "metadata": {
        "colab": {
          "base_uri": "https://localhost:8080/",
          "height": 35
        },
        "id": "X6J19c2V0rC3",
        "outputId": "01b8ed78-fe16-49bb-80f2-b0784505f31f"
      },
      "source": [
        "lets_meet(90, 75, 65)\n"
      ],
      "execution_count": 24,
      "outputs": [
        {
          "output_type": "execute_result",
          "data": {
            "application/vnd.google.colaboratory.intrinsic+json": {
              "type": "string"
            },
            "text/plain": [
              "'00h:38min:34s'"
            ]
          },
          "metadata": {},
          "execution_count": 24
        }
      ]
    }
  ]
}