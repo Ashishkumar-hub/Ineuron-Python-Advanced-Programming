{
  "nbformat": 4,
  "nbformat_minor": 0,
  "metadata": {
    "colab": {
      "name": "Ineuron_Python_Advanced_Programming02.ipynb",
      "provenance": [],
      "collapsed_sections": []
    },
    "kernelspec": {
      "name": "python3",
      "display_name": "Python 3"
    },
    "language_info": {
      "name": "python"
    }
  },
  "cells": [
    {
      "cell_type": "markdown",
      "metadata": {
        "id": "Lv0oCG5o4ast"
      },
      "source": [
        "# Ineuron Python Advanced Programming 02"
      ]
    },
    {
      "cell_type": "markdown",
      "metadata": {
        "id": "btDIGRSk4gCS"
      },
      "source": [
        ">Q. Write a function that takes a positive integer num and calculates how many\n",
        "dots exist in a pentagonal shape around the center dot on the Nth iteration.\n",
        "In the image below you can see the first iteration is only a single dot. On the\n",
        "second, there are 6 dots. On the third, there are 16 dots, and on the fourth\n",
        "there are 31 dots."
      ]
    },
    {
      "cell_type": "code",
      "metadata": {
        "id": "zqeP1Sqt4NrA"
      },
      "source": [
        "def pentagonal(n): \n",
        "    # Formula to calculate nth Centered pentagonal number.     \n",
        "    return (5 * n * n - 5 * n + 2) // 2"
      ],
      "execution_count": 1,
      "outputs": []
    },
    {
      "cell_type": "code",
      "metadata": {
        "colab": {
          "base_uri": "https://localhost:8080/"
        },
        "id": "ofz7Pc2l4kbk",
        "outputId": "feb24822-0239-4a67-f127-3bc1e82269a7"
      },
      "source": [
        "pentagonal(1)\n"
      ],
      "execution_count": 2,
      "outputs": [
        {
          "output_type": "execute_result",
          "data": {
            "text/plain": [
              "1"
            ]
          },
          "metadata": {},
          "execution_count": 2
        }
      ]
    },
    {
      "cell_type": "code",
      "metadata": {
        "colab": {
          "base_uri": "https://localhost:8080/"
        },
        "id": "WmbP6fYy4meo",
        "outputId": "dd56102f-423e-4002-92b9-81f51741c6a9"
      },
      "source": [
        "pentagonal(2)\n"
      ],
      "execution_count": 3,
      "outputs": [
        {
          "output_type": "execute_result",
          "data": {
            "text/plain": [
              "6"
            ]
          },
          "metadata": {},
          "execution_count": 3
        }
      ]
    },
    {
      "cell_type": "code",
      "metadata": {
        "colab": {
          "base_uri": "https://localhost:8080/"
        },
        "id": "nsY1Cetg4oBD",
        "outputId": "713f4913-9aa2-429f-a378-8267ab545445"
      },
      "source": [
        "pentagonal(3)\n"
      ],
      "execution_count": 4,
      "outputs": [
        {
          "output_type": "execute_result",
          "data": {
            "text/plain": [
              "16"
            ]
          },
          "metadata": {},
          "execution_count": 4
        }
      ]
    },
    {
      "cell_type": "code",
      "metadata": {
        "colab": {
          "base_uri": "https://localhost:8080/"
        },
        "id": "vxs9-S0i4pqM",
        "outputId": "c5b56392-e904-466c-ad4e-e57f2aee0aa2"
      },
      "source": [
        "pentagonal(8)\n"
      ],
      "execution_count": 5,
      "outputs": [
        {
          "output_type": "execute_result",
          "data": {
            "text/plain": [
              "141"
            ]
          },
          "metadata": {},
          "execution_count": 5
        }
      ]
    },
    {
      "cell_type": "markdown",
      "metadata": {
        "id": "e03_xiHi4tyz"
      },
      "source": [
        "> Q.  Make a function that encrypts a given input with these steps:\n",
        "Input: 'apple'\n",
        "Step 1: Reverse the input: 'elppa'\n",
        "Step 2: Replace all vowels using the following chart:\n",
        "a => 0\n",
        "e => 1\n",
        "i => 2\n",
        "o => 2\n",
        "u => 3\n",
        "'1lpp0'\n",
        "Step 3: Add 'aca' to the end of the word: '1lpp0aca'\n",
        "Output: '1lpp0aca'\n",
        "Examples\n",
        "encrypt('banana') ➞ '0n0n0baca'\n",
        "encrypt('karaca') ➞ '0c0r0kaca'\n",
        "encrypt('burak') ➞ 'k0r3baca'\n",
        "encrypt('alpaca') ➞ '0c0pl0aca'"
      ]
    },
    {
      "cell_type": "code",
      "metadata": {
        "id": "qkzztF9m4rPs"
      },
      "source": [
        "def encrypt(s):\n",
        "    vowel = 'aeiou'\n",
        "    codes = {'a':0,'e':1,'i':2,'o':2,'u':3}\n",
        "    s = s.lower()\n",
        "    s = s[::-1]\n",
        "    encoded =[]\n",
        "    for i in range(len(s)):\n",
        "        if s[i] in vowel:\n",
        "            encoded.append(str(codes[s[i]]))\n",
        "        else:\n",
        "            encoded.append(s[i])\n",
        "    return(''.join(encoded) + 'aca')"
      ],
      "execution_count": 6,
      "outputs": []
    },
    {
      "cell_type": "code",
      "metadata": {
        "colab": {
          "base_uri": "https://localhost:8080/",
          "height": 35
        },
        "id": "OaH5WfpE41Bi",
        "outputId": "d5bc85c3-7de9-4d7b-9996-abe702c34f83"
      },
      "source": [
        "encrypt('apple')\n"
      ],
      "execution_count": 7,
      "outputs": [
        {
          "output_type": "execute_result",
          "data": {
            "application/vnd.google.colaboratory.intrinsic+json": {
              "type": "string"
            },
            "text/plain": [
              "'1lpp0aca'"
            ]
          },
          "metadata": {},
          "execution_count": 7
        }
      ]
    },
    {
      "cell_type": "code",
      "metadata": {
        "colab": {
          "base_uri": "https://localhost:8080/",
          "height": 35
        },
        "id": "OqWoIKwu425j",
        "outputId": "6fbaae18-7a4f-4285-ea82-5de6c8d24594"
      },
      "source": [
        "encrypt('Deep')\n"
      ],
      "execution_count": 8,
      "outputs": [
        {
          "output_type": "execute_result",
          "data": {
            "application/vnd.google.colaboratory.intrinsic+json": {
              "type": "string"
            },
            "text/plain": [
              "'p11daca'"
            ]
          },
          "metadata": {},
          "execution_count": 8
        }
      ]
    },
    {
      "cell_type": "code",
      "metadata": {
        "colab": {
          "base_uri": "https://localhost:8080/",
          "height": 35
        },
        "id": "1zVCyULC45br",
        "outputId": "91d5f0e1-6d3b-4d09-ebff-a570b32d83d1"
      },
      "source": [
        "encrypt('HELLO')\n"
      ],
      "execution_count": 9,
      "outputs": [
        {
          "output_type": "execute_result",
          "data": {
            "application/vnd.google.colaboratory.intrinsic+json": {
              "type": "string"
            },
            "text/plain": [
              "'2ll1haca'"
            ]
          },
          "metadata": {},
          "execution_count": 9
        }
      ]
    },
    {
      "cell_type": "markdown",
      "metadata": {
        "id": "TRSM0-yF9vch"
      },
      "source": [
        ">Q. Given the month and year as numbers, return whether that month contains a Friday 13th.(i.e You can check Python's datetime module)\n",
        "Examples\n",
        "has_friday_13(3, 2020) ➞ True\n",
        "has_friday_13(10, 2017) ➞ True\n",
        "has_friday_13(1, 1985) ➞ False\n"
      ]
    },
    {
      "cell_type": "code",
      "metadata": {
        "id": "FHAyNPPZ49Ba"
      },
      "source": [
        "import datetime \n",
        "def has_friday_13(month,year):\n",
        "    return(True if datetime.datetime.strptime('13 '+' '+str(month)+' '+str(year), '%d %m %Y').weekday()==4 else False)"
      ],
      "execution_count": 10,
      "outputs": []
    },
    {
      "cell_type": "code",
      "metadata": {
        "colab": {
          "base_uri": "https://localhost:8080/"
        },
        "id": "VqrMlJSE9yGy",
        "outputId": "6a15840e-fac6-4024-8d9a-8d09c7f2f13c"
      },
      "source": [
        "has_friday_13(3, 2020)\n"
      ],
      "execution_count": 11,
      "outputs": [
        {
          "output_type": "execute_result",
          "data": {
            "text/plain": [
              "True"
            ]
          },
          "metadata": {},
          "execution_count": 11
        }
      ]
    },
    {
      "cell_type": "code",
      "metadata": {
        "colab": {
          "base_uri": "https://localhost:8080/"
        },
        "id": "K2A31XEI9zi-",
        "outputId": "0f27af8e-f929-4c54-8444-08a6282416eb"
      },
      "source": [
        "has_friday_13(10, 2017)\n"
      ],
      "execution_count": 12,
      "outputs": [
        {
          "output_type": "execute_result",
          "data": {
            "text/plain": [
              "True"
            ]
          },
          "metadata": {},
          "execution_count": 12
        }
      ]
    },
    {
      "cell_type": "code",
      "metadata": {
        "colab": {
          "base_uri": "https://localhost:8080/"
        },
        "id": "V-rZu3bQ91t9",
        "outputId": "98820fc6-861b-468a-b20f-669fcab3ea78"
      },
      "source": [
        "has_friday_13(1, 1985)\n"
      ],
      "execution_count": 13,
      "outputs": [
        {
          "output_type": "execute_result",
          "data": {
            "text/plain": [
              "False"
            ]
          },
          "metadata": {},
          "execution_count": 13
        }
      ]
    },
    {
      "cell_type": "markdown",
      "metadata": {
        "id": "g1OBOuKs96cw"
      },
      "source": [
        ">Q. Write a regular expression that will help us count how many bad cookies are produced every day. You must use RegEx negative lookbehind."
      ]
    },
    {
      "cell_type": "code",
      "metadata": {
        "colab": {
          "base_uri": "https://localhost:8080/"
        },
        "id": "6L_GAskY94Cd",
        "outputId": "513733e7-0da9-46a7-874d-1872b762be32"
      },
      "source": [
        "import re\n",
        "lst = ['bad cookie', 'good cookie', 'bad cookie', 'good cookie', 'good cookie']\n",
        "pattern = 'bad\\s\\w'\n",
        "len(re.findall(pattern, ', '.join(lst)))"
      ],
      "execution_count": 14,
      "outputs": [
        {
          "output_type": "execute_result",
          "data": {
            "text/plain": [
              "2"
            ]
          },
          "metadata": {},
          "execution_count": 14
        }
      ]
    },
    {
      "cell_type": "markdown",
      "metadata": {
        "id": "IfPo5rNY-H9h"
      },
      "source": [
        ">Q. Given a list of words in the singular form, return a set of those words in the plural form if they appear more than once in the list."
      ]
    },
    {
      "cell_type": "code",
      "metadata": {
        "id": "0wgzNPAT-ASq"
      },
      "source": [
        "def pluralize(lst):\n",
        "    ls = []\n",
        "    print(\"The List :\",lst)\n",
        "    for i in lst:\n",
        "        if lst.count(i) > 1:\n",
        "            ls.append(i + 's')\n",
        "        else:\n",
        "            ls.append(i)\n",
        "    return set(ls)"
      ],
      "execution_count": 21,
      "outputs": []
    },
    {
      "cell_type": "code",
      "metadata": {
        "colab": {
          "base_uri": "https://localhost:8080/"
        },
        "id": "R9dlXgiO-LjF",
        "outputId": "ae567efc-11e3-49ee-e173-d76c94c5140c"
      },
      "source": [
        "pluralize(['cow', 'pig', 'cow', 'cow'])\n"
      ],
      "execution_count": 22,
      "outputs": [
        {
          "output_type": "stream",
          "name": "stdout",
          "text": [
            "The List : ['cow', 'pig', 'cow', 'cow']\n"
          ]
        },
        {
          "output_type": "execute_result",
          "data": {
            "text/plain": [
              "{'cows', 'pig'}"
            ]
          },
          "metadata": {},
          "execution_count": 22
        }
      ]
    },
    {
      "cell_type": "code",
      "metadata": {
        "colab": {
          "base_uri": "https://localhost:8080/"
        },
        "id": "3hPz_QKZ-Nt6",
        "outputId": "9d590bfe-2ac4-4c5f-db66-2f7f1a01687f"
      },
      "source": [
        "pluralize(['table', 'table', 'table'])\n"
      ],
      "execution_count": 23,
      "outputs": [
        {
          "output_type": "stream",
          "name": "stdout",
          "text": [
            "The List : ['table', 'table', 'table']\n"
          ]
        },
        {
          "output_type": "execute_result",
          "data": {
            "text/plain": [
              "{'tables'}"
            ]
          },
          "metadata": {},
          "execution_count": 23
        }
      ]
    },
    {
      "cell_type": "code",
      "metadata": {
        "colab": {
          "base_uri": "https://localhost:8080/"
        },
        "id": "n70gJ_qf-PHx",
        "outputId": "3b5375b5-824f-402d-c169-1ccf47b64b84"
      },
      "source": [
        "pluralize(['chair', 'pencil', 'arm'])\n"
      ],
      "execution_count": 24,
      "outputs": [
        {
          "output_type": "stream",
          "name": "stdout",
          "text": [
            "The List : ['chair', 'pencil', 'arm']\n"
          ]
        },
        {
          "output_type": "execute_result",
          "data": {
            "text/plain": [
              "{'arm', 'chair', 'pencil'}"
            ]
          },
          "metadata": {},
          "execution_count": 24
        }
      ]
    }
  ]
}