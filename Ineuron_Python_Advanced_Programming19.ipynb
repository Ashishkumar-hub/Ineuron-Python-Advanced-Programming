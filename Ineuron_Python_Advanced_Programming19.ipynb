{
  "nbformat": 4,
  "nbformat_minor": 0,
  "metadata": {
    "colab": {
      "name": "Ineuron_Python_Advanced_Programming19.ipynb",
      "provenance": [],
      "collapsed_sections": []
    },
    "kernelspec": {
      "name": "python3",
      "display_name": "Python 3"
    },
    "language_info": {
      "name": "python"
    }
  },
  "cells": [
    {
      "cell_type": "markdown",
      "metadata": {
        "id": "9nxDVj5g4SMb"
      },
      "source": [
        "#Ineuron Python Advanced Programming 19"
      ]
    },
    {
      "cell_type": "markdown",
      "metadata": {
        "id": "IZ6caAxK5GhO"
      },
      "source": [
        ">Q.1. Create a checker board generator, which takes as inputs n and 2 elements to generate an n x n checkerboard with those two elements as alternating squares.\n"
      ]
    },
    {
      "cell_type": "code",
      "metadata": {
        "id": "O6eeXshg5AaJ"
      },
      "source": [
        "\n",
        "def checker_board(n,i1,i2):\n",
        "    if(i1==i2):\n",
        "        return \"invalid\"\n",
        "    else:\n",
        "        matrix=[]\n",
        "        for i in range(n):          \n",
        "            a =[] \n",
        "            for j in range(n):    \n",
        "                a.append(i1)\n",
        " \n",
        "                i1, i2 = i2, i1\n",
        "            matrix.append(a)\n",
        "            if n%2==0:\n",
        "                i1, i2 = i2, i1\n",
        "        return matrix"
      ],
      "execution_count": 1,
      "outputs": []
    },
    {
      "cell_type": "code",
      "metadata": {
        "colab": {
          "base_uri": "https://localhost:8080/"
        },
        "id": "pq4naEdT5Kv3",
        "outputId": "89d2f2ad-3cf0-4016-a63e-3cd55f0c9320"
      },
      "source": [
        "checker_board(2, 7, 6)\n"
      ],
      "execution_count": 2,
      "outputs": [
        {
          "output_type": "execute_result",
          "data": {
            "text/plain": [
              "[[7, 6], [6, 7]]"
            ]
          },
          "metadata": {},
          "execution_count": 2
        }
      ]
    },
    {
      "cell_type": "code",
      "metadata": {
        "colab": {
          "base_uri": "https://localhost:8080/"
        },
        "id": "yJ_Rlewh5MSU",
        "outputId": "50918cce-b0cb-45da-acdf-2013218990d6"
      },
      "source": [
        "checker_board(3, \"A\", \"B\")\n"
      ],
      "execution_count": 3,
      "outputs": [
        {
          "output_type": "execute_result",
          "data": {
            "text/plain": [
              "[['A', 'B', 'A'], ['B', 'A', 'B'], ['A', 'B', 'A']]"
            ]
          },
          "metadata": {},
          "execution_count": 3
        }
      ]
    },
    {
      "cell_type": "code",
      "metadata": {
        "colab": {
          "base_uri": "https://localhost:8080/"
        },
        "id": "SadPiHMc5NSG",
        "outputId": "b53a7c3e-2fe7-40b9-eb39-466076a9b2ad"
      },
      "source": [
        "checker_board(4, \"c\", \"d\")\n"
      ],
      "execution_count": 4,
      "outputs": [
        {
          "output_type": "execute_result",
          "data": {
            "text/plain": [
              "[['c', 'd', 'c', 'd'],\n",
              " ['d', 'c', 'd', 'c'],\n",
              " ['c', 'd', 'c', 'd'],\n",
              " ['d', 'c', 'd', 'c']]"
            ]
          },
          "metadata": {},
          "execution_count": 4
        }
      ]
    },
    {
      "cell_type": "code",
      "metadata": {
        "colab": {
          "base_uri": "https://localhost:8080/",
          "height": 35
        },
        "id": "8e_4VgVl5PVk",
        "outputId": "58d93ab0-15a5-4d3d-cbfc-8ef3be2a202d"
      },
      "source": [
        "checker_board(4, \"c\", \"c\")\n"
      ],
      "execution_count": 5,
      "outputs": [
        {
          "output_type": "execute_result",
          "data": {
            "application/vnd.google.colaboratory.intrinsic+json": {
              "type": "string"
            },
            "text/plain": [
              "'invalid'"
            ]
          },
          "metadata": {},
          "execution_count": 5
        }
      ]
    },
    {
      "cell_type": "markdown",
      "metadata": {
        "id": "dcQo9JrY5SSs"
      },
      "source": [
        ">Q.2. A string is an almost-palindrome if, by changing only one character, you can make it a palindrome. Create a function that returns True if a string is an almost-palindrome and False otherwise.\n"
      ]
    },
    {
      "cell_type": "code",
      "metadata": {
        "id": "Fk40ygAk5QXA"
      },
      "source": [
        "def almost_palindrome(s):\n",
        "    rs=s[::-1]\n",
        "    count=0\n",
        "    for i in range(len(s)):\n",
        "        if s[i]!=rs[i]:\n",
        "            count+=1\n",
        "    if count >2 :\n",
        "        return False\n",
        "    return True"
      ],
      "execution_count": 6,
      "outputs": []
    },
    {
      "cell_type": "code",
      "metadata": {
        "colab": {
          "base_uri": "https://localhost:8080/"
        },
        "id": "9JI_ZBkK5X0-",
        "outputId": "1d7ba584-7950-4886-e364-af7484d3d2b9"
      },
      "source": [
        "almost_palindrome(\"abcdcbg\")\n"
      ],
      "execution_count": 7,
      "outputs": [
        {
          "output_type": "execute_result",
          "data": {
            "text/plain": [
              "True"
            ]
          },
          "metadata": {},
          "execution_count": 7
        }
      ]
    },
    {
      "cell_type": "code",
      "metadata": {
        "colab": {
          "base_uri": "https://localhost:8080/"
        },
        "id": "IUNqHHAR5Zov",
        "outputId": "fb5faed7-9327-4274-934e-3b3b2d3be5ed"
      },
      "source": [
        "almost_palindrome(\"abccia\")\n"
      ],
      "execution_count": 8,
      "outputs": [
        {
          "output_type": "execute_result",
          "data": {
            "text/plain": [
              "True"
            ]
          },
          "metadata": {},
          "execution_count": 8
        }
      ]
    },
    {
      "cell_type": "code",
      "metadata": {
        "colab": {
          "base_uri": "https://localhost:8080/"
        },
        "id": "aHkCApl25arv",
        "outputId": "3b37bb8a-1905-44fc-d1a2-536389b5c990"
      },
      "source": [
        "almost_palindrome(\"abcdaaa\")\n"
      ],
      "execution_count": 9,
      "outputs": [
        {
          "output_type": "execute_result",
          "data": {
            "text/plain": [
              "False"
            ]
          },
          "metadata": {},
          "execution_count": 9
        }
      ]
    },
    {
      "cell_type": "code",
      "metadata": {
        "colab": {
          "base_uri": "https://localhost:8080/"
        },
        "id": "EC1HknsD5bu7",
        "outputId": "cc5be1d6-3bfa-44a3-b851-77e24921b43b"
      },
      "source": [
        "almost_palindrome(\"1234312\")\n"
      ],
      "execution_count": 10,
      "outputs": [
        {
          "output_type": "execute_result",
          "data": {
            "text/plain": [
              "False"
            ]
          },
          "metadata": {},
          "execution_count": 10
        }
      ]
    },
    {
      "cell_type": "markdown",
      "metadata": {
        "id": "bEMRQ4cR5fV0"
      },
      "source": [
        ">Q.3. Create a function that finds how many prime numbers there are, up to the given integer.\n"
      ]
    },
    {
      "cell_type": "code",
      "metadata": {
        "id": "_Xm_43Pn5c_o"
      },
      "source": [
        "\n",
        "def prime_numbers(n):\n",
        "    count=0\n",
        "    for i in range(n+1):\n",
        "        if i>1:\n",
        "            for j in range(2,i):\n",
        "                if(i % j==0):\n",
        "                    break\n",
        "            else:\n",
        "    \n",
        "                count+=1\n",
        "    return count"
      ],
      "execution_count": 11,
      "outputs": []
    },
    {
      "cell_type": "code",
      "metadata": {
        "colab": {
          "base_uri": "https://localhost:8080/"
        },
        "id": "t71Ri7AQ5jWj",
        "outputId": "654efe45-c89c-4a0d-d7ea-b6906d2a70e1"
      },
      "source": [
        "prime_numbers(10)\n"
      ],
      "execution_count": 12,
      "outputs": [
        {
          "output_type": "execute_result",
          "data": {
            "text/plain": [
              "4"
            ]
          },
          "metadata": {},
          "execution_count": 12
        }
      ]
    },
    {
      "cell_type": "code",
      "metadata": {
        "colab": {
          "base_uri": "https://localhost:8080/"
        },
        "id": "U8hr-nLt5kpw",
        "outputId": "3add8cac-1214-4a71-e0da-63b34da9d12f"
      },
      "source": [
        "prime_numbers(20)\n"
      ],
      "execution_count": 13,
      "outputs": [
        {
          "output_type": "execute_result",
          "data": {
            "text/plain": [
              "8"
            ]
          },
          "metadata": {},
          "execution_count": 13
        }
      ]
    },
    {
      "cell_type": "code",
      "metadata": {
        "colab": {
          "base_uri": "https://localhost:8080/"
        },
        "id": "s_Y1_fhY5nG6",
        "outputId": "46fca97b-8cbd-4230-d6a7-302ab5bc28e1"
      },
      "source": [
        "prime_numbers(30)\n"
      ],
      "execution_count": 14,
      "outputs": [
        {
          "output_type": "execute_result",
          "data": {
            "text/plain": [
              "10"
            ]
          },
          "metadata": {},
          "execution_count": 14
        }
      ]
    },
    {
      "cell_type": "markdown",
      "metadata": {
        "id": "QQPQImcc5uZL"
      },
      "source": [
        ">Q. 4. If today was Monday, in two days, it would be Wednesday.\n",
        "\n",
        "Create a function that takes in a list of days as input and the number of days to increment by. Return a list of days after n number of days has passed."
      ]
    },
    {
      "cell_type": "code",
      "metadata": {
        "id": "6phYScce5oPl"
      },
      "source": [
        "def after_n_days(lst,n):\n",
        "    index=[]\n",
        "    new=[]\n",
        "    days=[\"Monday\",\"Tuesday\",\"Wednesday\",\"Thursday\",\"Friday\",\"Saturday\",\"Sunday\"]\n",
        "    index=[days.index(i) for i in lst]\n",
        "    index=[(i+n)%7 for i in index]\n",
        "    for i in index:\n",
        "        new.append(days[i])\n",
        "    return new"
      ],
      "execution_count": 15,
      "outputs": []
    },
    {
      "cell_type": "code",
      "metadata": {
        "colab": {
          "base_uri": "https://localhost:8080/"
        },
        "id": "XppuPB7Z5xUN",
        "outputId": "88bb055b-ed1d-4a99-b959-96bf2d26e714"
      },
      "source": [
        "after_n_days([\"Thursday\", \"Monday\"],4)\n"
      ],
      "execution_count": 16,
      "outputs": [
        {
          "output_type": "execute_result",
          "data": {
            "text/plain": [
              "['Monday', 'Friday']"
            ]
          },
          "metadata": {},
          "execution_count": 16
        }
      ]
    },
    {
      "cell_type": "code",
      "metadata": {
        "colab": {
          "base_uri": "https://localhost:8080/"
        },
        "id": "12XzMIwN5zF0",
        "outputId": "f7f92cb2-c8f8-417f-d713-d5736c795b84"
      },
      "source": [
        "after_n_days([\"Sunday\", \"Sunday\", \"Sunday\"], 1)\n"
      ],
      "execution_count": 17,
      "outputs": [
        {
          "output_type": "execute_result",
          "data": {
            "text/plain": [
              "['Monday', 'Monday', 'Monday']"
            ]
          },
          "metadata": {},
          "execution_count": 17
        }
      ]
    },
    {
      "cell_type": "code",
      "metadata": {
        "colab": {
          "base_uri": "https://localhost:8080/"
        },
        "id": "dmF4my1350UA",
        "outputId": "d88d00da-92f9-4902-adc9-5db0173127d6"
      },
      "source": [
        "after_n_days([\"Sunday\", \"Sunday\", \"Sunday\"], 1)\n"
      ],
      "execution_count": 18,
      "outputs": [
        {
          "output_type": "execute_result",
          "data": {
            "text/plain": [
              "['Monday', 'Monday', 'Monday']"
            ]
          },
          "metadata": {},
          "execution_count": 18
        }
      ]
    },
    {
      "cell_type": "markdown",
      "metadata": {
        "id": "n_qanM0h54Zy"
      },
      "source": [
        ">Q.5. You are in the process of creating a chat application and want to add an anonymous name feature. This anonymous name feature will create an alias that consists of two capitalized words beginning with the same letter as the users first name.\n",
        "\n",
        "Create a function that determines if the list of users is mapped to a list of anonymous names correctly."
      ]
    },
    {
      "cell_type": "code",
      "metadata": {
        "id": "CZUKDVOP51hl"
      },
      "source": [
        "def is_correct_aliases(lst1,lst2):\n",
        "    new=[]\n",
        "    for i in lst2:\n",
        "        x=i.split()\n",
        "        new.append(x)\n",
        "    for i in range(len(lst1)):\n",
        "\n",
        "        if lst1[i][0]!=new[i][0][0] or lst1[i][0] !=new[i][1][0]:\n",
        "            return False\n",
        "    return True"
      ],
      "execution_count": 19,
      "outputs": []
    },
    {
      "cell_type": "code",
      "metadata": {
        "colab": {
          "base_uri": "https://localhost:8080/"
        },
        "id": "bnchNQvd57sJ",
        "outputId": "9dfdb7e8-2c7f-4754-e4af-c975c13f539e"
      },
      "source": [
        "is_correct_aliases([\"Adrian M.\", \"Harriet S.\", \"Mandy T.\"], [\"Amazing Artichoke\", \"Hopeful Hedgehog\", \"Marvelous Mouse\"])\n"
      ],
      "execution_count": 20,
      "outputs": [
        {
          "output_type": "execute_result",
          "data": {
            "text/plain": [
              "True"
            ]
          },
          "metadata": {},
          "execution_count": 20
        }
      ]
    },
    {
      "cell_type": "code",
      "metadata": {
        "colab": {
          "base_uri": "https://localhost:8080/"
        },
        "id": "lpo2Ldia59JL",
        "outputId": "9ca88d8c-0ce7-4eb2-a029-e0ad771cd78e"
      },
      "source": [
        "is_correct_aliases([\"Rachel F.\", \"Pam G.\", \"Fred Z.\", \"Nancy K.\"], [\"Reassuring Rat\", \"Peaceful Panda\", \"Fantastic Frog\", \"Notable Nickel\"])\n"
      ],
      "execution_count": 21,
      "outputs": [
        {
          "output_type": "execute_result",
          "data": {
            "text/plain": [
              "True"
            ]
          },
          "metadata": {},
          "execution_count": 21
        }
      ]
    },
    {
      "cell_type": "code",
      "metadata": {
        "colab": {
          "base_uri": "https://localhost:8080/"
        },
        "id": "PqTyITmE5-SO",
        "outputId": "93ccb573-ab2c-47cf-b61e-4a3c529362ef"
      },
      "source": [
        "is_correct_aliases([\"Beth T.\"], [\"Brandishing Mimosa\"])\n"
      ],
      "execution_count": 22,
      "outputs": [
        {
          "output_type": "execute_result",
          "data": {
            "text/plain": [
              "False"
            ]
          },
          "metadata": {},
          "execution_count": 22
        }
      ]
    }
  ]
}