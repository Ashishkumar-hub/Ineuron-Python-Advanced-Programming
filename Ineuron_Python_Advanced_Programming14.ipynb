{
  "nbformat": 4,
  "nbformat_minor": 0,
  "metadata": {
    "colab": {
      "name": "Ineuron_Python_Advanced_Programming14.ipynb",
      "provenance": []
    },
    "kernelspec": {
      "name": "python3",
      "display_name": "Python 3"
    },
    "language_info": {
      "name": "python"
    }
  },
  "cells": [
    {
      "cell_type": "markdown",
      "metadata": {
        "id": "WlmlQmBSRRva"
      },
      "source": [
        "#Ineuron Python Advanced Programming 14"
      ]
    },
    {
      "cell_type": "markdown",
      "metadata": {
        "id": "PW5P7hbiRU7S"
      },
      "source": [
        ">Q. 1. Given a list of numbers, create a function that removes 25% from every number in the list except the smallest number, and adds the total amount removed to the smallest number.\n",
        "\n",
        "Examples\n",
        "\n",
        "show_the_love([4, 1, 4]) ➞ [3, 3, 3]\n",
        "\n",
        "show_the_love([16, 10, 8]) ➞ [12, 7.5, 14.5]\n",
        "\n",
        "show_the_love([2, 100]) ➞ [27, 75]"
      ]
    },
    {
      "cell_type": "code",
      "metadata": {
        "id": "cPIbRHhBRNex"
      },
      "source": [
        "def show_the_love(l):\n",
        "    m= min(l)\n",
        "    x= l.index(m)\n",
        "    tf = 0\n",
        "    for i in range(len(l)):\n",
        "        if l[i] != m:\n",
        "            tf=tf+l[i]*0.25\n",
        "            l[i] = l[i]-(l[i]*0.25)\n",
        "    l[x]=l[x]+tf\n",
        "    return(l)"
      ],
      "execution_count": 1,
      "outputs": []
    },
    {
      "cell_type": "code",
      "metadata": {
        "colab": {
          "base_uri": "https://localhost:8080/"
        },
        "id": "GzT7UZaKRW9S",
        "outputId": "99924d21-8d5e-4436-afce-498ca31a0c11"
      },
      "source": [
        "show_the_love([4, 1, 4])\n"
      ],
      "execution_count": 2,
      "outputs": [
        {
          "output_type": "execute_result",
          "data": {
            "text/plain": [
              "[3.0, 3.0, 3.0]"
            ]
          },
          "metadata": {},
          "execution_count": 2
        }
      ]
    },
    {
      "cell_type": "code",
      "metadata": {
        "colab": {
          "base_uri": "https://localhost:8080/"
        },
        "id": "igCQ-zzqRZkz",
        "outputId": "c354d937-dbfb-44d5-ea48-7c0d2f602263"
      },
      "source": [
        "show_the_love([16, 10, 8])\n"
      ],
      "execution_count": 3,
      "outputs": [
        {
          "output_type": "execute_result",
          "data": {
            "text/plain": [
              "[12.0, 7.5, 14.5]"
            ]
          },
          "metadata": {},
          "execution_count": 3
        }
      ]
    },
    {
      "cell_type": "code",
      "metadata": {
        "colab": {
          "base_uri": "https://localhost:8080/"
        },
        "id": "vXL4FO16Ra0W",
        "outputId": "37619d28-28b7-4fa9-f837-35ce4ce351fc"
      },
      "source": [
        "show_the_love([2, 100])\n"
      ],
      "execution_count": 4,
      "outputs": [
        {
          "output_type": "execute_result",
          "data": {
            "text/plain": [
              "[27.0, 75.0]"
            ]
          },
          "metadata": {},
          "execution_count": 4
        }
      ]
    },
    {
      "cell_type": "markdown",
      "metadata": {
        "id": "wu1n7-hRRfm8"
      },
      "source": [
        ">Q.2. Create a function that takes in two words as input and returns a list of three elements, in the following order:\n",
        "\n",
        "   1.Shared letters between two words.\n",
        "   2.Letters unique to word 1.\n",
        "   3.Letters unique to word 2.\n",
        "\n",
        "Each element should have unique letters, and have each letter be alphabetically sorted."
      ]
    },
    {
      "cell_type": "code",
      "metadata": {
        "id": "jev8NBQNRcbS"
      },
      "source": [
        "def letters(l1,l2):\n",
        "    l1=set(l1)\n",
        "    l2=set(l2)\n",
        "    l3=[]\n",
        "    c=\"\"\n",
        "    for i in l1:\n",
        "        if i in l2:\n",
        "            c += i\n",
        "    c= ''.join(sorted(c))\n",
        "    a= ''.join(sorted(l1.difference(l2)))\n",
        "    b= ''.join(sorted(l2.difference(l1)))\n",
        "    l3.append(c)\n",
        "    l3.append(a)\n",
        "    l3.append(b)\n",
        "    return(l3)"
      ],
      "execution_count": 5,
      "outputs": []
    },
    {
      "cell_type": "code",
      "metadata": {
        "colab": {
          "base_uri": "https://localhost:8080/"
        },
        "id": "CSVdlpzpRjTG",
        "outputId": "d61c1b16-1c1e-442e-c5ae-9cd5261d3028"
      },
      "source": [
        "letters(\"sharp\", \"soap\")\n"
      ],
      "execution_count": 6,
      "outputs": [
        {
          "output_type": "execute_result",
          "data": {
            "text/plain": [
              "['aps', 'hr', 'o']"
            ]
          },
          "metadata": {},
          "execution_count": 6
        }
      ]
    },
    {
      "cell_type": "code",
      "metadata": {
        "colab": {
          "base_uri": "https://localhost:8080/"
        },
        "id": "sg60zoxZRkeJ",
        "outputId": "f3eb7cb1-dfb2-448b-fd11-3ad867168258"
      },
      "source": [
        "letters(\"board\", \"bored\")\n"
      ],
      "execution_count": 7,
      "outputs": [
        {
          "output_type": "execute_result",
          "data": {
            "text/plain": [
              "['bdor', 'a', 'e']"
            ]
          },
          "metadata": {},
          "execution_count": 7
        }
      ]
    },
    {
      "cell_type": "code",
      "metadata": {
        "colab": {
          "base_uri": "https://localhost:8080/"
        },
        "id": "wYIqtJ-FRlly",
        "outputId": "d827d1f7-ad53-4921-e68a-1849501005db"
      },
      "source": [
        "letters(\"happiness\", \"envelope\")\n"
      ],
      "execution_count": 8,
      "outputs": [
        {
          "output_type": "execute_result",
          "data": {
            "text/plain": [
              "['enp', 'ahis', 'lov']"
            ]
          },
          "metadata": {},
          "execution_count": 8
        }
      ]
    },
    {
      "cell_type": "code",
      "metadata": {
        "colab": {
          "base_uri": "https://localhost:8080/"
        },
        "id": "nT3mcyatRnDX",
        "outputId": "9992bdec-57c1-4b08-8f4c-c2bf09d208c4"
      },
      "source": [
        "letters(\"kerfuffle\", \"fluffy\")\n"
      ],
      "execution_count": 9,
      "outputs": [
        {
          "output_type": "execute_result",
          "data": {
            "text/plain": [
              "['flu', 'ekr', 'y']"
            ]
          },
          "metadata": {},
          "execution_count": 9
        }
      ]
    },
    {
      "cell_type": "code",
      "metadata": {
        "colab": {
          "base_uri": "https://localhost:8080/"
        },
        "id": "0oUllvtDRoDC",
        "outputId": "ade7f681-a415-429c-a885-fb88689800cc"
      },
      "source": [
        "letters(\"match\", \"ham\")\n"
      ],
      "execution_count": 10,
      "outputs": [
        {
          "output_type": "execute_result",
          "data": {
            "text/plain": [
              "['ahm', 'ct', '']"
            ]
          },
          "metadata": {},
          "execution_count": 10
        }
      ]
    },
    {
      "cell_type": "markdown",
      "metadata": {
        "id": "TfPIGERuRri0"
      },
      "source": [
        ">Q. 3. Write a function that pairs the first number in an array with the last, the second number with the second to last, etc.\n"
      ]
    },
    {
      "cell_type": "code",
      "metadata": {
        "id": "Kqs4POj0RpYf"
      },
      "source": [
        "def pairs(l):\n",
        "    r = l[::-1]\n",
        "    a=[]\n",
        "    n=[]\n",
        "    i = 0\n",
        "    if len(l) %2 == 0:\n",
        "        length = int(len(l)/2)\n",
        "    else:\n",
        "        length = int(len(l)/2) +1\n",
        "    while length:\n",
        "        a.append(l[i])\n",
        "        a.append(r[i])\n",
        "        length = length -1\n",
        "        i = i+1\n",
        "    i=0\n",
        "    while i<len(a):\n",
        "        n.append(a[i:i+2])\n",
        "        i+=2\n",
        "    return n\n",
        "    "
      ],
      "execution_count": 11,
      "outputs": []
    },
    {
      "cell_type": "code",
      "metadata": {
        "colab": {
          "base_uri": "https://localhost:8080/"
        },
        "id": "bfM_1UA-Rw71",
        "outputId": "4bce0e72-88e3-41bc-a5aa-f17a1ea8800b"
      },
      "source": [
        "pairs([1, 2, 3, 4, 5, 6, 7])\n"
      ],
      "execution_count": 12,
      "outputs": [
        {
          "output_type": "execute_result",
          "data": {
            "text/plain": [
              "[[1, 7], [2, 6], [3, 5], [4, 4]]"
            ]
          },
          "metadata": {},
          "execution_count": 12
        }
      ]
    },
    {
      "cell_type": "code",
      "metadata": {
        "colab": {
          "base_uri": "https://localhost:8080/"
        },
        "id": "fjb3dmMaRxN1",
        "outputId": "1354ae0c-f5dc-40ce-a0c1-ac8c2b27ec73"
      },
      "source": [
        "pairs([1, 2, 3, 4, 5, 6])\n"
      ],
      "execution_count": 13,
      "outputs": [
        {
          "output_type": "execute_result",
          "data": {
            "text/plain": [
              "[[1, 6], [2, 5], [3, 4]]"
            ]
          },
          "metadata": {},
          "execution_count": 13
        }
      ]
    },
    {
      "cell_type": "code",
      "metadata": {
        "colab": {
          "base_uri": "https://localhost:8080/"
        },
        "id": "x7G9N6uuRyS9",
        "outputId": "b234ed23-09fe-4913-92a8-9cd16c01a2d1"
      },
      "source": [
        "pairs([5, 9, 8, 1, 2])\n"
      ],
      "execution_count": 14,
      "outputs": [
        {
          "output_type": "execute_result",
          "data": {
            "text/plain": [
              "[[5, 2], [9, 1], [8, 8]]"
            ]
          },
          "metadata": {},
          "execution_count": 14
        }
      ]
    },
    {
      "cell_type": "code",
      "metadata": {
        "colab": {
          "base_uri": "https://localhost:8080/"
        },
        "id": "IoRj2PCARzbL",
        "outputId": "96ba3e37-6fc9-47aa-ab3d-c6366f77de36"
      },
      "source": [
        "pairs([])\n"
      ],
      "execution_count": 15,
      "outputs": [
        {
          "output_type": "execute_result",
          "data": {
            "text/plain": [
              "[]"
            ]
          },
          "metadata": {},
          "execution_count": 15
        }
      ]
    },
    {
      "cell_type": "markdown",
      "metadata": {
        "id": "iyxoxIN6R4FI"
      },
      "source": [
        ">Q.4. Write a function that adds two numbers. The catch, however, is that the numbers will be strings."
      ]
    },
    {
      "cell_type": "code",
      "metadata": {
        "id": "CqhLt57ER0mT"
      },
      "source": [
        "def add_str_nums(a,b):\n",
        "        \n",
        "    if not a:\n",
        "        a=\"0\"\n",
        "    if not b:\n",
        "        b=\"0\"\n",
        "    try:  \n",
        "        return str(int(a)+int(b))\n",
        "    except:\n",
        "        return \"-1\""
      ],
      "execution_count": 16,
      "outputs": []
    },
    {
      "cell_type": "code",
      "metadata": {
        "colab": {
          "base_uri": "https://localhost:8080/",
          "height": 35
        },
        "id": "JCwqx0DXR6DU",
        "outputId": "76cc64b0-f1e9-4848-e93b-45274d94612f"
      },
      "source": [
        "add_str_nums(\"4\", \"5\")\n"
      ],
      "execution_count": 17,
      "outputs": [
        {
          "output_type": "execute_result",
          "data": {
            "application/vnd.google.colaboratory.intrinsic+json": {
              "type": "string"
            },
            "text/plain": [
              "'9'"
            ]
          },
          "metadata": {},
          "execution_count": 17
        }
      ]
    },
    {
      "cell_type": "code",
      "metadata": {
        "colab": {
          "base_uri": "https://localhost:8080/",
          "height": 35
        },
        "id": "819NS0qVR7Wf",
        "outputId": "d32b087d-87ed-49c1-bc07-97f334c8dd34"
      },
      "source": [
        "add_str_nums(\"abcdefg\", \"3\")\n"
      ],
      "execution_count": 18,
      "outputs": [
        {
          "output_type": "execute_result",
          "data": {
            "application/vnd.google.colaboratory.intrinsic+json": {
              "type": "string"
            },
            "text/plain": [
              "'-1'"
            ]
          },
          "metadata": {},
          "execution_count": 18
        }
      ]
    },
    {
      "cell_type": "code",
      "metadata": {
        "colab": {
          "base_uri": "https://localhost:8080/",
          "height": 35
        },
        "id": "QYrGTlzNR9WE",
        "outputId": "55c80ecd-792c-45de-8596-982c93ed2211"
      },
      "source": [
        "add_str_nums(\"1\", \"\")\n"
      ],
      "execution_count": 19,
      "outputs": [
        {
          "output_type": "execute_result",
          "data": {
            "application/vnd.google.colaboratory.intrinsic+json": {
              "type": "string"
            },
            "text/plain": [
              "'1'"
            ]
          },
          "metadata": {},
          "execution_count": 19
        }
      ]
    },
    {
      "cell_type": "code",
      "metadata": {
        "colab": {
          "base_uri": "https://localhost:8080/",
          "height": 35
        },
        "id": "7viQXZnVR-fV",
        "outputId": "44c50716-c960-45df-fb9e-0f398545c115"
      },
      "source": [
        "add_str_nums(\"1874682736267235927359283579235789257\", \"32652983572985729\")\n"
      ],
      "execution_count": 20,
      "outputs": [
        {
          "output_type": "execute_result",
          "data": {
            "application/vnd.google.colaboratory.intrinsic+json": {
              "type": "string"
            },
            "text/plain": [
              "'1874682736267235927391936562808774986'"
            ]
          },
          "metadata": {},
          "execution_count": 20
        }
      ]
    },
    {
      "cell_type": "markdown",
      "metadata": {
        "id": "MvM5-LG-SDTX"
      },
      "source": [
        ">Q. 5. lPaeesh le pemu mnxit ehess rtnisg! Oh, sorry, that was supposed to say: Please help me unmix these strings!\n",
        "\n",
        "Somehow my strings have all become mixed up; every pair of characters has been swapped. Help me undo this so I can understand my strings again.\n",
        "\n",
        "Examples\n",
        "\n",
        "unmix(\"123456\") ➞ \"214365\"\n",
        "\n",
        "unmix(\"hTsii  s aimex dpus rtni.g\") ➞ \"This is a mixed up string.\"\n",
        "\n",
        "unmix(\"badce\") ➞ \"abcde\""
      ]
    },
    {
      "cell_type": "code",
      "metadata": {
        "id": "BMMWnjfSSAOo"
      },
      "source": [
        "def unmix(s):\n",
        "    s=''.join([ s[x:x+2][::-1] for x in range(0, len(s), 2) ])\n",
        "    return s"
      ],
      "execution_count": 21,
      "outputs": []
    },
    {
      "cell_type": "code",
      "metadata": {
        "id": "BJqaJYfvSGi1",
        "outputId": "1a4eda7f-7b36-4028-c2d2-ab53784cb3b7",
        "colab": {
          "base_uri": "https://localhost:8080/",
          "height": 35
        }
      },
      "source": [
        "unmix(\"123456\")\n"
      ],
      "execution_count": 22,
      "outputs": [
        {
          "output_type": "execute_result",
          "data": {
            "application/vnd.google.colaboratory.intrinsic+json": {
              "type": "string"
            },
            "text/plain": [
              "'214365'"
            ]
          },
          "metadata": {},
          "execution_count": 22
        }
      ]
    },
    {
      "cell_type": "code",
      "metadata": {
        "id": "fmEx3297SHyE",
        "outputId": "bb83745e-2632-4d8d-ad89-8fbf8b449546",
        "colab": {
          "base_uri": "https://localhost:8080/",
          "height": 35
        }
      },
      "source": [
        "unmix(\"hTsii  s aimex dpus rtni.g\")\n"
      ],
      "execution_count": 23,
      "outputs": [
        {
          "output_type": "execute_result",
          "data": {
            "application/vnd.google.colaboratory.intrinsic+json": {
              "type": "string"
            },
            "text/plain": [
              "'This is a mixed up string.'"
            ]
          },
          "metadata": {},
          "execution_count": 23
        }
      ]
    },
    {
      "cell_type": "code",
      "metadata": {
        "id": "LneABY4oSJGC",
        "colab": {
          "base_uri": "https://localhost:8080/",
          "height": 35
        },
        "outputId": "7a0ced45-6ab2-43ab-f8ca-8193d3ab72be"
      },
      "source": [
        "unmix(\"badce\")\n"
      ],
      "execution_count": 24,
      "outputs": [
        {
          "output_type": "execute_result",
          "data": {
            "application/vnd.google.colaboratory.intrinsic+json": {
              "type": "string"
            },
            "text/plain": [
              "'abcde'"
            ]
          },
          "metadata": {},
          "execution_count": 24
        }
      ]
    }
  ]
}