{
  "nbformat": 4,
  "nbformat_minor": 0,
  "metadata": {
    "colab": {
      "name": "Ineuron_Python_Advanced_Programming04.ipynb",
      "provenance": [],
      "collapsed_sections": []
    },
    "kernelspec": {
      "name": "python3",
      "display_name": "Python 3"
    },
    "language_info": {
      "name": "python"
    }
  },
  "cells": [
    {
      "cell_type": "markdown",
      "metadata": {
        "id": "PNz00Hyoj4PC"
      },
      "source": [
        "# Ineuron Python Advanced Programming 04"
      ]
    },
    {
      "cell_type": "markdown",
      "metadata": {
        "id": "9PuB-C-7j746"
      },
      "source": [
        ">Q. 1. In mathematics, the Fibonacci numbers, commonly denoted Fn, form a\n",
        "sequence, called the Fibonacci sequence, such that each number is the sum\n",
        "of the two preceding ones, starting from 0 and 1:"
      ]
    },
    {
      "cell_type": "code",
      "metadata": {
        "id": "HYSdoS9Xjwhi"
      },
      "source": [
        "def fib_fast(num):\n",
        "    count = 0\n",
        "    sum = 0\n",
        "    f1 , f2 = 0,1\n",
        "    if num <= 0:\n",
        "        print(\"Not a positive number\")\n",
        "    elif num == 1:\n",
        "        print(\"nth Fibonacci series upto \",num, \":\")    \n",
        "        return num\n",
        "    else:\n",
        "        print(\"nth Fibonacci series upto \",num, \":\")\n",
        "        while count <= num:        \n",
        "            count+=1\n",
        "            if count > num:\n",
        "                return f1\n",
        "            fth = f1 + f2\n",
        "            f1,f2 = f2, fth"
      ],
      "execution_count": 1,
      "outputs": []
    },
    {
      "cell_type": "code",
      "metadata": {
        "colab": {
          "base_uri": "https://localhost:8080/"
        },
        "id": "YjkKu8iGj_Xa",
        "outputId": "1c1077e0-c24e-444a-ca32-9325770520bb"
      },
      "source": [
        "fib_fast(-1)\n"
      ],
      "execution_count": 2,
      "outputs": [
        {
          "output_type": "stream",
          "name": "stdout",
          "text": [
            "Not a positive number\n"
          ]
        }
      ]
    },
    {
      "cell_type": "code",
      "metadata": {
        "colab": {
          "base_uri": "https://localhost:8080/"
        },
        "id": "BVPNOvHfkAvp",
        "outputId": "63dc74be-435e-42e4-c5de-7235b03168ef"
      },
      "source": [
        "fib_fast(10)\n"
      ],
      "execution_count": 3,
      "outputs": [
        {
          "output_type": "stream",
          "name": "stdout",
          "text": [
            "nth Fibonacci series upto  10 :\n"
          ]
        },
        {
          "output_type": "execute_result",
          "data": {
            "text/plain": [
              "55"
            ]
          },
          "metadata": {},
          "execution_count": 3
        }
      ]
    },
    {
      "cell_type": "code",
      "metadata": {
        "colab": {
          "base_uri": "https://localhost:8080/"
        },
        "id": "BzhsbJIYkCDB",
        "outputId": "c2a93cde-52e1-4648-90e4-3e868eeed831"
      },
      "source": [
        "fib_fast(20)\n"
      ],
      "execution_count": 4,
      "outputs": [
        {
          "output_type": "stream",
          "name": "stdout",
          "text": [
            "nth Fibonacci series upto  20 :\n"
          ]
        },
        {
          "output_type": "execute_result",
          "data": {
            "text/plain": [
              "6765"
            ]
          },
          "metadata": {},
          "execution_count": 4
        }
      ]
    },
    {
      "cell_type": "code",
      "metadata": {
        "colab": {
          "base_uri": "https://localhost:8080/"
        },
        "id": "4rZt_AFJkDmq",
        "outputId": "8e5ec4e2-5a5c-482b-b801-6a2ee9c7cb09"
      },
      "source": [
        "fib_fast(50)\n"
      ],
      "execution_count": 5,
      "outputs": [
        {
          "output_type": "stream",
          "name": "stdout",
          "text": [
            "nth Fibonacci series upto  50 :\n"
          ]
        },
        {
          "output_type": "execute_result",
          "data": {
            "text/plain": [
              "12586269025"
            ]
          },
          "metadata": {},
          "execution_count": 5
        }
      ]
    },
    {
      "cell_type": "code",
      "metadata": {
        "colab": {
          "base_uri": "https://localhost:8080/"
        },
        "id": "oyNRIYJjkOKW",
        "outputId": "472c689c-5a7b-4269-ab72-7470814ba7cd"
      },
      "source": [
        "fib_fast(1)\n"
      ],
      "execution_count": 6,
      "outputs": [
        {
          "output_type": "stream",
          "name": "stdout",
          "text": [
            "nth Fibonacci series upto  1 :\n"
          ]
        },
        {
          "output_type": "execute_result",
          "data": {
            "text/plain": [
              "1"
            ]
          },
          "metadata": {},
          "execution_count": 6
        }
      ]
    },
    {
      "cell_type": "markdown",
      "metadata": {
        "id": "PPC9PCTbkSaj"
      },
      "source": [
        ">Q. 2. Create a function that takes a strings characters as ASCII and returns each\n",
        "characters hexadecimal value as a string.\n",
        "Examples\n",
        "convert_to_hex('hello world') ➞ '68 65 6c 6c 6f 20 77 6f 72 6c 64'\n",
        "convert_to_hex('Big Boi') ➞ '42 69 67 20 42 6f 69'\n",
        "convert_to_hex('Marty Poppinson') ➞ '4d 61 72 74 79 20 50 6f 70 70 69 6e\n",
        "73 6f 6e'"
      ]
    },
    {
      "cell_type": "code",
      "metadata": {
        "id": "OTNfUFU7kPMM"
      },
      "source": [
        "def convert_to_hex(str):\n",
        " \n",
        "    # Initialize final String\n",
        "    hexa = []\n",
        "    for i in range(len(str)):      \n",
        "        ch = str[i]      \n",
        "        in1 = ord(ch)\n",
        "        part = hex(in1).lstrip(\"0x\")\n",
        "        hexa.append(part)\n",
        "    return \" \".join(hexa)"
      ],
      "execution_count": 7,
      "outputs": []
    },
    {
      "cell_type": "code",
      "metadata": {
        "colab": {
          "base_uri": "https://localhost:8080/",
          "height": 35
        },
        "id": "y3ncHGHPkUwQ",
        "outputId": "77a66486-d375-40c3-f5da-a5e5dd1c501b"
      },
      "source": [
        "convert_to_hex('hello world')\n"
      ],
      "execution_count": 8,
      "outputs": [
        {
          "output_type": "execute_result",
          "data": {
            "application/vnd.google.colaboratory.intrinsic+json": {
              "type": "string"
            },
            "text/plain": [
              "'68 65 6c 6c 6f 20 77 6f 72 6c 64'"
            ]
          },
          "metadata": {},
          "execution_count": 8
        }
      ]
    },
    {
      "cell_type": "code",
      "metadata": {
        "colab": {
          "base_uri": "https://localhost:8080/",
          "height": 35
        },
        "id": "_jtMQ5UxkWKJ",
        "outputId": "e7cab9cc-17ee-453e-c7e6-cd743d87d8e7"
      },
      "source": [
        "convert_to_hex('Big Boi')\n"
      ],
      "execution_count": 9,
      "outputs": [
        {
          "output_type": "execute_result",
          "data": {
            "application/vnd.google.colaboratory.intrinsic+json": {
              "type": "string"
            },
            "text/plain": [
              "'42 69 67 20 42 6f 69'"
            ]
          },
          "metadata": {},
          "execution_count": 9
        }
      ]
    },
    {
      "cell_type": "code",
      "metadata": {
        "colab": {
          "base_uri": "https://localhost:8080/",
          "height": 35
        },
        "id": "k03xOgkJkXo_",
        "outputId": "248e828a-2ee0-49c8-845e-f654587fc901"
      },
      "source": [
        "convert_to_hex('Marty Poppinson')\n"
      ],
      "execution_count": 10,
      "outputs": [
        {
          "output_type": "execute_result",
          "data": {
            "application/vnd.google.colaboratory.intrinsic+json": {
              "type": "string"
            },
            "text/plain": [
              "'4d 61 72 74 79 20 50 6f 70 70 69 6e 73 6f 6e'"
            ]
          },
          "metadata": {},
          "execution_count": 10
        }
      ]
    },
    {
      "cell_type": "markdown",
      "metadata": {
        "id": "Ao6HXZmakb7Q"
      },
      "source": [
        ">Q. 3. Someone has attempted to censor my strings by replacing every vowel\n",
        "with a *, l*k* th*s. Luckily, I've been able to find the vowels that were\n",
        "removed.\n",
        "Given a censored string and a string of the censored vowels, return the\n",
        "original uncensored string.\n",
        "Example\n",
        "uncensor('Wh*r* d*d my v*w*ls g*?', 'eeioeo') ➞ 'Where did my vowels go?'\n",
        "uncensor('abcd', '') ➞ 'abcd'\n",
        "uncensor('*PP*RC*S*', 'UEAE') ➞ 'UPPERCASE'\n"
      ]
    },
    {
      "cell_type": "code",
      "metadata": {
        "id": "mIcYlaDCkZfx"
      },
      "source": [
        "def uncensor(string, vowels):\n",
        "    new = ''\n",
        "    counter = 0\n",
        "    for i in range(len(string)):\n",
        "        if string[i] == '*':            \n",
        "            new += vowels[counter]\n",
        "            counter += 1\n",
        "        else:\n",
        "            new += string[i]\n",
        "    return new"
      ],
      "execution_count": 11,
      "outputs": []
    },
    {
      "cell_type": "code",
      "metadata": {
        "colab": {
          "base_uri": "https://localhost:8080/",
          "height": 35
        },
        "id": "k60YIIkMkePr",
        "outputId": "c0f98aa2-a9d2-4893-9164-bb1a0ff613a0"
      },
      "source": [
        "uncensor('Wh*r* d*d my v*w*ls g*?', 'eeioeo')\n"
      ],
      "execution_count": 12,
      "outputs": [
        {
          "output_type": "execute_result",
          "data": {
            "application/vnd.google.colaboratory.intrinsic+json": {
              "type": "string"
            },
            "text/plain": [
              "'Where did my vowels go?'"
            ]
          },
          "metadata": {},
          "execution_count": 12
        }
      ]
    },
    {
      "cell_type": "code",
      "metadata": {
        "colab": {
          "base_uri": "https://localhost:8080/",
          "height": 35
        },
        "id": "c471zNzGkgEu",
        "outputId": "5e5957db-e149-4ab3-d6b9-8e173a9a5d58"
      },
      "source": [
        "uncensor('abcd', '')\n"
      ],
      "execution_count": 13,
      "outputs": [
        {
          "output_type": "execute_result",
          "data": {
            "application/vnd.google.colaboratory.intrinsic+json": {
              "type": "string"
            },
            "text/plain": [
              "'abcd'"
            ]
          },
          "metadata": {},
          "execution_count": 13
        }
      ]
    },
    {
      "cell_type": "code",
      "metadata": {
        "colab": {
          "base_uri": "https://localhost:8080/",
          "height": 35
        },
        "id": "6cW1sUuzkhZ1",
        "outputId": "88635a33-b02b-42dc-d9de-e906fe8d9d60"
      },
      "source": [
        "uncensor('*PP*RC*S*', 'UEAE')\n"
      ],
      "execution_count": 14,
      "outputs": [
        {
          "output_type": "execute_result",
          "data": {
            "application/vnd.google.colaboratory.intrinsic+json": {
              "type": "string"
            },
            "text/plain": [
              "'UPPERCASE'"
            ]
          },
          "metadata": {},
          "execution_count": 14
        }
      ]
    },
    {
      "cell_type": "markdown",
      "metadata": {
        "id": "cx8r5DM-klLD"
      },
      "source": [
        ">Q. 4. Write a function that takes an IP address and returns the domain name\n",
        "using PTR DNS records.\n",
        "Example\n",
        "get_domain('8.8.8.8') ➞ 'dns.google'\n",
        "get_domain('8.8.4.4') ➞ 'dns.google'"
      ]
    },
    {
      "cell_type": "code",
      "metadata": {
        "colab": {
          "base_uri": "https://localhost:8080/"
        },
        "id": "ayYEY7dYkite",
        "outputId": "a0b7851e-dcf1-48c4-d469-84a411eb9ef5"
      },
      "source": [
        "!pip install dnspython"
      ],
      "execution_count": 15,
      "outputs": [
        {
          "output_type": "stream",
          "name": "stdout",
          "text": [
            "Collecting dnspython\n",
            "  Downloading dnspython-2.2.0-py3-none-any.whl (266 kB)\n",
            "\u001b[?25l\r\u001b[K     |█▎                              | 10 kB 21.0 MB/s eta 0:00:01\r\u001b[K     |██▌                             | 20 kB 23.1 MB/s eta 0:00:01\r\u001b[K     |███▊                            | 30 kB 17.1 MB/s eta 0:00:01\r\u001b[K     |█████                           | 40 kB 15.1 MB/s eta 0:00:01\r\u001b[K     |██████▏                         | 51 kB 8.3 MB/s eta 0:00:01\r\u001b[K     |███████▍                        | 61 kB 8.7 MB/s eta 0:00:01\r\u001b[K     |████████▋                       | 71 kB 8.9 MB/s eta 0:00:01\r\u001b[K     |█████████▉                      | 81 kB 9.8 MB/s eta 0:00:01\r\u001b[K     |███████████                     | 92 kB 9.8 MB/s eta 0:00:01\r\u001b[K     |████████████▎                   | 102 kB 7.9 MB/s eta 0:00:01\r\u001b[K     |█████████████▌                  | 112 kB 7.9 MB/s eta 0:00:01\r\u001b[K     |██████████████▊                 | 122 kB 7.9 MB/s eta 0:00:01\r\u001b[K     |████████████████                | 133 kB 7.9 MB/s eta 0:00:01\r\u001b[K     |█████████████████▏              | 143 kB 7.9 MB/s eta 0:00:01\r\u001b[K     |██████████████████▍             | 153 kB 7.9 MB/s eta 0:00:01\r\u001b[K     |███████████████████▋            | 163 kB 7.9 MB/s eta 0:00:01\r\u001b[K     |████████████████████▉           | 174 kB 7.9 MB/s eta 0:00:01\r\u001b[K     |██████████████████████          | 184 kB 7.9 MB/s eta 0:00:01\r\u001b[K     |███████████████████████▎        | 194 kB 7.9 MB/s eta 0:00:01\r\u001b[K     |████████████████████████▌       | 204 kB 7.9 MB/s eta 0:00:01\r\u001b[K     |█████████████████████████▊      | 215 kB 7.9 MB/s eta 0:00:01\r\u001b[K     |███████████████████████████     | 225 kB 7.9 MB/s eta 0:00:01\r\u001b[K     |████████████████████████████▎   | 235 kB 7.9 MB/s eta 0:00:01\r\u001b[K     |█████████████████████████████▌  | 245 kB 7.9 MB/s eta 0:00:01\r\u001b[K     |██████████████████████████████▊ | 256 kB 7.9 MB/s eta 0:00:01\r\u001b[K     |████████████████████████████████| 266 kB 7.9 MB/s eta 0:00:01\r\u001b[K     |████████████████████████████████| 266 kB 7.9 MB/s \n",
            "\u001b[?25hInstalling collected packages: dnspython\n",
            "Successfully installed dnspython-2.2.0\n"
          ]
        }
      ]
    },
    {
      "cell_type": "code",
      "source": [
        "import socket\n",
        "def get_domain_name(ip_address):\n",
        "  result=socket.gethostbyaddr(ip_address)\n",
        "  return list(result)[0]\n",
        "print(\"Domain name using PTR DNS:\")\n",
        "print(get_domain_name(\"8.8.8.8\"))\n",
        "print(get_domain_name(\"8.8.4.4\"))"
      ],
      "metadata": {
        "colab": {
          "base_uri": "https://localhost:8080/"
        },
        "id": "fUvnCARRUR1-",
        "outputId": "3e889527-7c22-44bb-ed54-2b5e33a84185"
      },
      "execution_count": 18,
      "outputs": [
        {
          "output_type": "stream",
          "name": "stdout",
          "text": [
            "Domain name using PTR DNS:\n",
            "dns.google\n",
            "dns.google\n"
          ]
        }
      ]
    },
    {
      "cell_type": "markdown",
      "metadata": {
        "id": "-UE2gxGqk42W"
      },
      "source": [
        ">Q. 5. Create a function that takes an integer n and returns the factorial of\n",
        "factorials. See below examples for a better understanding:\n",
        "Examples\n",
        "fact_of_fact(4) ➞ 288\n",
        "4! * 3! * 2! * 1! = 288\n",
        "fact_of_fact(5) ➞ 34560\n",
        "fact_of_fact(6) ➞ 24883200"
      ]
    },
    {
      "cell_type": "code",
      "metadata": {
        "id": "BMRzOGV5kwQK"
      },
      "source": [
        "def factorial(n):\n",
        "    fact = 1    \n",
        "    for num in range(2, n + 1):\n",
        "        fact = fact * num\n",
        "    return(fact)\n",
        "\n",
        "def fact_of_fact(num):\n",
        "    factorial_of_fact = 1\n",
        "    if num < 0:\n",
        "        print(\"Can not calculate Factorial of a negative number\")\n",
        "    elif num == 0:\n",
        "        print(\"Factorial of zero is 1\")\n",
        "    else:\n",
        "        for i in range(1,num+1):\n",
        "            factorial_of_fact = factorial_of_fact * factorial(i)\n",
        "    return \"Factorial of {} is {}\".format(num, factorial_of_fact)"
      ],
      "execution_count": 21,
      "outputs": []
    },
    {
      "cell_type": "code",
      "metadata": {
        "colab": {
          "base_uri": "https://localhost:8080/",
          "height": 35
        },
        "id": "kyj2XRn6k-Ca",
        "outputId": "b7ba8732-85c5-4f50-9f66-87972a305428"
      },
      "source": [
        "fact_of_fact(4)\n"
      ],
      "execution_count": 22,
      "outputs": [
        {
          "output_type": "execute_result",
          "data": {
            "application/vnd.google.colaboratory.intrinsic+json": {
              "type": "string"
            },
            "text/plain": [
              "'Factorial of 4 is 288'"
            ]
          },
          "metadata": {},
          "execution_count": 22
        }
      ]
    },
    {
      "cell_type": "code",
      "metadata": {
        "colab": {
          "base_uri": "https://localhost:8080/",
          "height": 35
        },
        "id": "6wrX2UXTk_m0",
        "outputId": "972a8fe9-1eb3-4430-8b0c-bc22eac0f667"
      },
      "source": [
        "fact_of_fact(5)\n"
      ],
      "execution_count": 23,
      "outputs": [
        {
          "output_type": "execute_result",
          "data": {
            "application/vnd.google.colaboratory.intrinsic+json": {
              "type": "string"
            },
            "text/plain": [
              "'Factorial of 5 is 34560'"
            ]
          },
          "metadata": {},
          "execution_count": 23
        }
      ]
    },
    {
      "cell_type": "code",
      "metadata": {
        "colab": {
          "base_uri": "https://localhost:8080/",
          "height": 35
        },
        "id": "AOvA_QcBlA1i",
        "outputId": "9e6ad4f0-5a64-4cb3-e1a5-fb42ebee7352"
      },
      "source": [
        "fact_of_fact(6)\n"
      ],
      "execution_count": 24,
      "outputs": [
        {
          "output_type": "execute_result",
          "data": {
            "application/vnd.google.colaboratory.intrinsic+json": {
              "type": "string"
            },
            "text/plain": [
              "'Factorial of 6 is 24883200'"
            ]
          },
          "metadata": {},
          "execution_count": 24
        }
      ]
    }
  ]
}